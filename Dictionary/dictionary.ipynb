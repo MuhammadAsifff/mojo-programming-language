{
 "cells": [
  {
   "cell_type": "markdown",
   "metadata": {},
   "source": [
    "# Hashable : Unique datatype which is unique data type which could not be updated."
   ]
  },
  {
   "cell_type": "markdown",
   "metadata": {},
   "source": [
    "# Why we need of dictionary? \n",
    "* first of all we have iterative data type e.g, list, set and typle. In all of these you store element on the base of index and this information not know any one untill I tell them a label means at zero index \"Asif\". And we get the value on the base of index"
   ]
  },
  {
   "cell_type": "markdown",
   "metadata": {},
   "source": [
    "# Dictionary\n",
    "* key:value (items) : (ky value pair called items)\n",
    "   * key: replacement of indexes\n",
    "   * value: item\n",
    "   \n",
    "           * add new value : We also add new value in dictionary\n",
    "        * update value  : We also update  value in dictionary "
   ]
  },
  {
   "cell_type": "code",
   "execution_count": 7,
   "metadata": {},
   "outputs": [
    {
     "name": "stdout",
     "output_type": "stream",
     "text": [
      "{'education': 'MSDS', 'fname': 'Muhammad A D', 'name': 'Muhammad Asif'}\n"
     ]
    }
   ],
   "source": [
    "# dictionary is start from curly brackets and also end with curly brackets.\n",
    "#  We make hashable a key.\n",
    "# Tuple is not become key, because is on left side.\n",
    "# key value pair combine and make item and in the items there is a separeter which is a comma.\n",
    "# -- And in key value separater is colon\n",
    "\n",
    "# -------------IMPORTANT-------\n",
    "\n",
    "# If you wanna print in beautiful format then we use \"pprint\" fuction.\n",
    "\n",
    "# pprint, display or simple print all do the same work.\n",
    "\n",
    "\n",
    "\n",
    "from typing import Dict, Union, Optional\n",
    "import pprint\n",
    "\n",
    "# List                    0                1            2\n",
    "data : Dict[str,str] = {\n",
    "                        \"fname\":\"Muhammad A D\",\n",
    "                        \"name\":\"Muhammad Asif\",\n",
    "                        \"education\": \"MSDS\"\n",
    "                        }\n",
    "\n",
    "pprint.pprint(data)"
   ]
  },
  {
   "cell_type": "code",
   "execution_count": 6,
   "metadata": {},
   "outputs": [
    {
     "name": "stdout",
     "output_type": "stream",
     "text": [
      "{'education': 'MSDS', 'fname': 'Muhammad A D', 'name': 'Muhammad Asif'}\n",
      "Muhammad Asif\n",
      "Muhammad A D\n",
      "MSDS\n"
     ]
    }
   ],
   "source": [
    "# From dictionay getting any value give the key of the value. \n",
    "\n",
    "Key = Union[int,str] # create custom type\n",
    "Value = Union[int, str, list, dict, tuple, set]\n",
    "\n",
    "# List                    0                1            2\n",
    "data : Dict[Key,Value] = {\n",
    "                        \"fname\":\"Muhammad A D\",\n",
    "                        \"name\":\"Muhammad Asif\",\n",
    "                        \"education\": \"MSDS\"\n",
    "                        }\n",
    "\n",
    "pprint.pprint(data)\n",
    "print(data[\"name\"])\n",
    "print(data['fname'])\n",
    "print(data['education'])"
   ]
  },
  {
   "cell_type": "code",
   "execution_count": 7,
   "metadata": {},
   "outputs": [
    {
     "name": "stdout",
     "output_type": "stream",
     "text": [
      "{0: 'AI', 'education': 'MSDS', 'fname': 'Muhammad A D', 'name': 'Muhammad ASIF'}\n",
      "Muhammad ASIF\n",
      "Muhammad A D\n",
      "MSDS\n",
      "AI\n"
     ]
    }
   ],
   "source": [
    "# if you see number in the dictionary. It is not the index number it is the key which is assign by creater.\n",
    "\n",
    "\n",
    "Key = Union[int,str] # create custom type\n",
    "Value = Union[int, str, list, dict, tuple, set]\n",
    "\n",
    "# List                    0                1            2\n",
    "data : Dict[Key,Value] = {\n",
    "                        \"fname\":\"Muhammad A D\",\n",
    "                        \"name\":\"Muhammad ASIF\",\n",
    "                        \"education\": \"MSDS\",\n",
    "                        0 : \"AI\"\n",
    "                        }\n",
    "\n",
    "pprint.pprint(data)\n",
    "print(data[\"name\"])\n",
    "print(data['fname'])\n",
    "print(data['education'])\n",
    "print(data[0]) # index = key"
   ]
  },
  {
   "cell_type": "code",
   "execution_count": 6,
   "metadata": {},
   "outputs": [
    {
     "ename": "TypeError",
     "evalue": "unhashable type: 'list'",
     "output_type": "error",
     "traceback": [
      "\u001b[1;31m---------------------------------------------------------------------------\u001b[0m",
      "\u001b[1;31mTypeError\u001b[0m                                 Traceback (most recent call last)",
      "\u001b[1;32mc:\\Users\\Hp\\Desktop\\MOJO 1 SHOT\\Dictionary\\class7.ipynb Cell 7\u001b[0m line \u001b[0;36m1\n\u001b[0;32m      <a href='vscode-notebook-cell:/c%3A/Users/Hp/Desktop/MOJO%201%20SHOT/Dictionary/class7.ipynb#X14sZmlsZQ%3D%3D?line=6'>7</a>\u001b[0m Value \u001b[39m=\u001b[39m Union[\u001b[39mint\u001b[39m, \u001b[39mstr\u001b[39m, \u001b[39mlist\u001b[39m, \u001b[39mdict\u001b[39m, \u001b[39mtuple\u001b[39m, \u001b[39mset\u001b[39m]\n\u001b[0;32m      <a href='vscode-notebook-cell:/c%3A/Users/Hp/Desktop/MOJO%201%20SHOT/Dictionary/class7.ipynb#X14sZmlsZQ%3D%3D?line=8'>9</a>\u001b[0m \u001b[39m# List                    0                1            2\u001b[39;00m\n\u001b[1;32m---> <a href='vscode-notebook-cell:/c%3A/Users/Hp/Desktop/MOJO%201%20SHOT/Dictionary/class7.ipynb#X14sZmlsZQ%3D%3D?line=9'>10</a>\u001b[0m data : Dict[Key,Value] \u001b[39m=\u001b[39m {\n\u001b[0;32m     <a href='vscode-notebook-cell:/c%3A/Users/Hp/Desktop/MOJO%201%20SHOT/Dictionary/class7.ipynb#X14sZmlsZQ%3D%3D?line=10'>11</a>\u001b[0m                         \u001b[39m\"\u001b[39m\u001b[39mfname\u001b[39m\u001b[39m\"\u001b[39m:\u001b[39m\"\u001b[39m\u001b[39mMuhammad A D\u001b[39m\u001b[39m\"\u001b[39m,\n\u001b[0;32m     <a href='vscode-notebook-cell:/c%3A/Users/Hp/Desktop/MOJO%201%20SHOT/Dictionary/class7.ipynb#X14sZmlsZQ%3D%3D?line=11'>12</a>\u001b[0m                         \u001b[39m\"\u001b[39m\u001b[39mname\u001b[39m\u001b[39m\"\u001b[39m:\u001b[39m\"\u001b[39m\u001b[39mMuhammad Asif\u001b[39m\u001b[39m\"\u001b[39m,\n\u001b[0;32m     <a href='vscode-notebook-cell:/c%3A/Users/Hp/Desktop/MOJO%201%20SHOT/Dictionary/class7.ipynb#X14sZmlsZQ%3D%3D?line=12'>13</a>\u001b[0m                         \u001b[39m\"\u001b[39m\u001b[39meducation\u001b[39m\u001b[39m\"\u001b[39m: \u001b[39m\"\u001b[39m\u001b[39mMSDS\u001b[39m\u001b[39m\"\u001b[39m,\n\u001b[0;32m     <a href='vscode-notebook-cell:/c%3A/Users/Hp/Desktop/MOJO%201%20SHOT/Dictionary/class7.ipynb#X14sZmlsZQ%3D%3D?line=13'>14</a>\u001b[0m                         [\u001b[39m1\u001b[39m,\u001b[39m2\u001b[39m,\u001b[39m3\u001b[39m] : \u001b[39m\"\u001b[39m\u001b[39mAI\u001b[39m\u001b[39m\"\u001b[39m, \u001b[39m# error\u001b[39;00m\n\u001b[0;32m     <a href='vscode-notebook-cell:/c%3A/Users/Hp/Desktop/MOJO%201%20SHOT/Dictionary/class7.ipynb#X14sZmlsZQ%3D%3D?line=14'>15</a>\u001b[0m                         }\n\u001b[0;32m     <a href='vscode-notebook-cell:/c%3A/Users/Hp/Desktop/MOJO%201%20SHOT/Dictionary/class7.ipynb#X14sZmlsZQ%3D%3D?line=16'>17</a>\u001b[0m pprint\u001b[39m.\u001b[39mpprint(data)\n\u001b[0;32m     <a href='vscode-notebook-cell:/c%3A/Users/Hp/Desktop/MOJO%201%20SHOT/Dictionary/class7.ipynb#X14sZmlsZQ%3D%3D?line=17'>18</a>\u001b[0m \u001b[39mprint\u001b[39m(data[\u001b[39m\"\u001b[39m\u001b[39mname\u001b[39m\u001b[39m\"\u001b[39m])\n",
      "\u001b[1;31mTypeError\u001b[0m: unhashable type: 'list'"
     ]
    }
   ],
   "source": [
    "# Below is error because list is unhashable and we not write the name of key.\n",
    "\n",
    "# ----------------- Only unchangeable values will be the key\n",
    "# ---------------ONLY UNIQUE VALUES will be Key -------------\n",
    "\n",
    "Key = Union[int,str] # create custom type\n",
    "Value = Union[int, str, list, dict, tuple, set]\n",
    "\n",
    "# List                    0                1            2\n",
    "data : Dict[Key,Value] = {\n",
    "                        \"fname\":\"Muhammad A D\",\n",
    "                        \"name\":\"Muhammad Asif\",\n",
    "                        \"education\": \"MSDS\",\n",
    "                        [1,2,3] : \"AI\", # error\n",
    "                        }\n",
    "\n",
    "pprint.pprint(data)\n",
    "print(data[\"name\"])\n",
    "print(data['fname'])\n",
    "print(data['education'])"
   ]
  },
  {
   "cell_type": "code",
   "execution_count": 8,
   "metadata": {},
   "outputs": [
    {
     "name": "stdout",
     "output_type": "stream",
     "text": [
      "{'abc': [1, 2, 3],\n",
      " 'cde': {'a': 1, 'b': 2},\n",
      " 'education': 'MSDS',\n",
      " 'efg': (1, 2, 3),\n",
      " 'fname': 'Muhammad A D',\n",
      " 'name': 'Muhammad Asif',\n",
      " 'xyz': {1, 2, 3}}\n",
      "Muhammad Asif\n",
      "Muhammad A D\n",
      "{1, 2, 3}\n",
      "MSDS\n"
     ]
    },
    {
     "data": {
      "text/plain": [
       "2"
      ]
     },
     "execution_count": 8,
     "metadata": {},
     "output_type": "execute_result"
    }
   ],
   "source": [
    "# But we write the value any thing no restriction is.\n",
    "\n",
    "\n",
    "Key = Union[int,str,tuple] # create custom type\n",
    "Value = Union[int, str, list, dict, tuple, set] \n",
    "\n",
    "# List                    0                1            2\n",
    "data : Dict[Key,Value] = {\n",
    "                        \"fname\":\"Muhammad A D\",\n",
    "                        \"name\":\"Muhammad Asif\",\n",
    "                        \"education\": \"MSDS\",\n",
    "                        \"abc\" : [1,2,3],\n",
    "                        'xyz': {1,2,3},\n",
    "                        'efg' : (1,2,3),\n",
    "                        'cde' : {\"a\":1, \"b\":2}\n",
    "                        }\n",
    "\n",
    "pprint.pprint(data)\n",
    "print(data[\"name\"])\n",
    "print(data['fname'])\n",
    "\n",
    "print(data['xyz'])\n",
    "print(data['education'])\n",
    "\n",
    "\n",
    "data['cde']['b'] # Here \"['b']\" is subset of dictionary."
   ]
  },
  {
   "cell_type": "code",
   "execution_count": 14,
   "metadata": {},
   "outputs": [
    {
     "name": "stdout",
     "output_type": "stream",
     "text": [
      "{'name': 'Muhammad Asif', 'fname': 'Muhammad A D', 'education': 'MSDS'}\n"
     ]
    }
   ],
   "source": [
    "# Here we add the value by assign operator not by key valu.\n",
    "\n",
    "\n",
    "\n",
    "\n",
    "Key = Union[int,str] # create custom type\n",
    "Value = Union[int, str, list, dict, tuple, set]\n",
    "\n",
    "data : dict[Key,Value] = {}\n",
    "\n",
    "data['name'] = \"Muhammad Asif\" # By assign operator add new key and values\n",
    "data['fname'] = \"Muhammad A D\"\n",
    "data['education'] = \"MSDS\"\n",
    "\n",
    "print(data)"
   ]
  },
  {
   "cell_type": "code",
   "execution_count": 15,
   "metadata": {},
   "outputs": [
    {
     "name": "stdout",
     "output_type": "stream",
     "text": [
      "{'fname': 'Muhammad A D', 'name': 'Muhammad Asif', 'education': 'MSDS'}\n",
      "{'fname': 'Muhammad A D', 'name': 'M.Asif', 'education': 'MSDS'}\n"
     ]
    }
   ],
   "source": [
    "# We also update by assign operator\n",
    "\n",
    "Key = Union[int,str] # create custom type\n",
    "Value = Union[int, str, list, dict, tuple, set]\n",
    "\n",
    "data : Dict[Key,Value] = {\n",
    "                        \"fname\":\"Muhammad A D\",\n",
    "                        \"name\":\"Muhammad Asif\",\n",
    "                        \"education\": \"MSDS\"}\n",
    "\n",
    "\n",
    "print(data)\n",
    "\n",
    "data['name'] = \"M.Asif\" # update\n",
    "\n",
    "print(data)"
   ]
  },
  {
   "cell_type": "code",
   "execution_count": 16,
   "metadata": {},
   "outputs": [
    {
     "ename": "KeyError",
     "evalue": "'AI'",
     "output_type": "error",
     "traceback": [
      "\u001b[1;31m---------------------------------------------------------------------------\u001b[0m",
      "\u001b[1;31mKeyError\u001b[0m                                  Traceback (most recent call last)",
      "\u001b[1;32mc:\\Users\\Hp\\Desktop\\python3.12\\class7.ipynb Cell 17\u001b[0m line \u001b[0;36m1\n\u001b[0;32m      <a href='vscode-notebook-cell:/c%3A/Users/Hp/Desktop/python3.12/class7.ipynb#X25sZmlsZQ%3D%3D?line=5'>6</a>\u001b[0m Value \u001b[39m=\u001b[39m Union[\u001b[39mint\u001b[39m, \u001b[39mstr\u001b[39m, \u001b[39mlist\u001b[39m, \u001b[39mdict\u001b[39m, \u001b[39mtuple\u001b[39m, \u001b[39mset\u001b[39m]\n\u001b[0;32m      <a href='vscode-notebook-cell:/c%3A/Users/Hp/Desktop/python3.12/class7.ipynb#X25sZmlsZQ%3D%3D?line=7'>8</a>\u001b[0m data : Dict[Key,Value] \u001b[39m=\u001b[39m {\n\u001b[0;32m      <a href='vscode-notebook-cell:/c%3A/Users/Hp/Desktop/python3.12/class7.ipynb#X25sZmlsZQ%3D%3D?line=8'>9</a>\u001b[0m                         \u001b[39m\"\u001b[39m\u001b[39mfname\u001b[39m\u001b[39m\"\u001b[39m:\u001b[39m\"\u001b[39m\u001b[39mMuhammad A D\u001b[39m\u001b[39m\"\u001b[39m,\n\u001b[0;32m     <a href='vscode-notebook-cell:/c%3A/Users/Hp/Desktop/python3.12/class7.ipynb#X25sZmlsZQ%3D%3D?line=9'>10</a>\u001b[0m                         \u001b[39m\"\u001b[39m\u001b[39mname\u001b[39m\u001b[39m\"\u001b[39m:\u001b[39m\"\u001b[39m\u001b[39mMuhammad Asif\u001b[39m\u001b[39m\"\u001b[39m,\n\u001b[0;32m     <a href='vscode-notebook-cell:/c%3A/Users/Hp/Desktop/python3.12/class7.ipynb#X25sZmlsZQ%3D%3D?line=10'>11</a>\u001b[0m                         \u001b[39m\"\u001b[39m\u001b[39meducation\u001b[39m\u001b[39m\"\u001b[39m: \u001b[39m\"\u001b[39m\u001b[39mMSDS\u001b[39m\u001b[39m\"\u001b[39m}\n\u001b[1;32m---> <a href='vscode-notebook-cell:/c%3A/Users/Hp/Desktop/python3.12/class7.ipynb#X25sZmlsZQ%3D%3D?line=14'>15</a>\u001b[0m \u001b[39mprint\u001b[39m(data[\u001b[39m'\u001b[39;49m\u001b[39mAI\u001b[39;49m\u001b[39m'\u001b[39;49m])\n\u001b[0;32m     <a href='vscode-notebook-cell:/c%3A/Users/Hp/Desktop/python3.12/class7.ipynb#X25sZmlsZQ%3D%3D?line=16'>17</a>\u001b[0m [i \u001b[39mfor\u001b[39;00m i \u001b[39min\u001b[39;00m \u001b[39mdir\u001b[39m(data) \u001b[39mif\u001b[39;00m \u001b[39m\"\u001b[39m\u001b[39m__\u001b[39m\u001b[39m\"\u001b[39m \u001b[39mnot\u001b[39;00m \u001b[39min\u001b[39;00m i]\n",
      "\u001b[1;31mKeyError\u001b[0m: 'AI'"
     ]
    }
   ],
   "source": [
    "# Error because key is not present.\n",
    "\n",
    "\n",
    "Key = Union[int,str] # create custom type\n",
    "Value = Union[int, str, list, dict, tuple, set]\n",
    "\n",
    "data : Dict[Key,Value] = {\n",
    "                        \"fname\":\"Muhammad A D\",\n",
    "                        \"name\":\"Muhammad Asif\",\n",
    "                        \"education\": \"MSDS\"}\n",
    "\n",
    "\n",
    "\n",
    "print(data['AI'])\n",
    "\n",
    "[i for i in dir(data) if \"__\" not in i]"
   ]
  },
  {
   "cell_type": "markdown",
   "metadata": {},
   "source": [
    "# get method if key is present then it lay ayee ga. And key is not present then it not generating the error. This is its benefits because on run time the code crash due to error."
   ]
  },
  {
   "cell_type": "code",
   "execution_count": 3,
   "metadata": {},
   "outputs": [
    {
     "name": "stdout",
     "output_type": "stream",
     "text": [
      "NA\n",
      "Muhammad Asif\n"
     ]
    },
    {
     "data": {
      "text/plain": [
       "['clear',\n",
       " 'copy',\n",
       " 'fromkeys',\n",
       " 'get',\n",
       " 'items',\n",
       " 'keys',\n",
       " 'pop',\n",
       " 'popitem',\n",
       " 'setdefault',\n",
       " 'update',\n",
       " 'values']"
      ]
     },
     "execution_count": 3,
     "metadata": {},
     "output_type": "execute_result"
    }
   ],
   "source": [
    "\n",
    "\n",
    "\n",
    "Key = Union[int,str] # create custom type\n",
    "Value = Union[int, str, list, dict, tuple, set]\n",
    "\n",
    "data : Dict[Key,Value] = {\n",
    "                        \"fname\":\"Muhammad A D\",\n",
    "                        \"name\":\"Muhammad Asif\",\n",
    "                        \"education\": \"MSDS\"}\n",
    "\n",
    "\n",
    "#                 key     \n",
    "print(data.get('AI',\"NA\")) # If value not present then it return \"NA\". \n",
    "print(data.get('name',\"NA\")) \n",
    "\n",
    "[i for i in dir(data) if \"__\" not in i]"
   ]
  },
  {
   "cell_type": "code",
   "execution_count": 10,
   "metadata": {},
   "outputs": [
    {
     "name": "stdout",
     "output_type": "stream",
     "text": [
      "fname\n",
      "name\n",
      "education\n"
     ]
    }
   ],
   "source": [
    "# By the iteration we only get the key.\n",
    "\n",
    "\n",
    "\n",
    "Key = Union[int,str] # create custom type\n",
    "Value = Union[int, str, list, dict, tuple, set]\n",
    "\n",
    "data : Dict[Key,Value] = {\n",
    "                        \"fname\":\"Muhammad A D\",\n",
    "                        \"name\":\"Muhammad Asif\",\n",
    "                        \"education\": \"MSDS\"}\n",
    "\n",
    "\n",
    "for d in data:\n",
    "    print(d) # keys"
   ]
  },
  {
   "cell_type": "code",
   "execution_count": 11,
   "metadata": {},
   "outputs": [
    {
     "name": "stdout",
     "output_type": "stream",
     "text": [
      "dict_keys(['fname', 'name', 'education'])\n",
      "dict_values(['Muhammad A D', 'Muhammad Asif', 'MSDS'])\n",
      "dict_items([('fname', 'Muhammad A D'), ('name', 'Muhammad Asif'), ('education', 'MSDS')])\n",
      "fname\n",
      "name\n",
      "education\n"
     ]
    },
    {
     "data": {
      "text/plain": [
       "['fname', 'name', 'education']"
      ]
     },
     "execution_count": 11,
     "metadata": {},
     "output_type": "execute_result"
    }
   ],
   "source": [
    "# Here we get the keys by for loop\n",
    "\n",
    "\n",
    "\n",
    "Key = Union[int,str] # create custom type\n",
    "Value = Union[int, str, list, dict, tuple, set]\n",
    "\n",
    "data : Dict[Key,Value] = {\n",
    "                        \"fname\":\"Muhammad A D\",\n",
    "                        \"name\":\"Muhammad Asif\",\n",
    "                        \"education\": \"MSDS\"}\n",
    "\n",
    "\n",
    "print(data.keys()) # keys : Give keys\n",
    "print(data.values()) # values : Give values\n",
    "print(data.items())  # Item : Will return Both key and values in typle.\n",
    "\n",
    "for k in data.keys():\n",
    "    print(k)\n",
    "\n",
    "# above for loop in list comprehensive.\n",
    "[k for k in data.keys()]"
   ]
  },
  {
   "cell_type": "code",
   "execution_count": 12,
   "metadata": {},
   "outputs": [
    {
     "name": "stdout",
     "output_type": "stream",
     "text": [
      "dict_keys(['fname', 'name', 'education'])\n",
      "dict_values(['Muhammad A D', 'Muhammad Asif', 'MSDS'])\n",
      "dict_items([('fname', 'Muhammad A D'), ('name', 'Muhammad Asif'), ('education', 'MSDS')])\n",
      "Muhammad A D\n",
      "Muhammad Asif\n",
      "MSDS\n"
     ]
    },
    {
     "data": {
      "text/plain": [
       "['Muhammad A D', 'Muhammad Asif', 'MSDS']"
      ]
     },
     "execution_count": 12,
     "metadata": {},
     "output_type": "execute_result"
    }
   ],
   "source": [
    "# Here we get the values by for loop\n",
    "\n",
    "\n",
    "\n",
    "Key = Union[int,str] # create custom type\n",
    "Value = Union[int, str, list, dict, tuple, set]\n",
    "\n",
    "data : Dict[Key,Value] = {\n",
    "                        \"fname\":\"Muhammad A D\",\n",
    "                        \"name\":\"Muhammad Asif\",\n",
    "                        \"education\": \"MSDS\"}\n",
    "\n",
    "\n",
    "print(data.keys()) # keys : Give keys\n",
    "print(data.values()) # values : Give values\n",
    "print(data.items())  # Item : Will return Both key and values in typle.\n",
    "\n",
    "for v in data.values():\n",
    "    print(v)\n",
    "\n",
    "# above for loop in list comprehensive.\n",
    "[v for v in data.values()]"
   ]
  },
  {
   "cell_type": "code",
   "execution_count": 13,
   "metadata": {},
   "outputs": [
    {
     "name": "stdout",
     "output_type": "stream",
     "text": [
      "dict_keys(['fname', 'name', 'education'])\n",
      "dict_values(['Muhammad A D', 'Muhammad Asif', 'MSDS'])\n",
      "dict_items([('fname', 'Muhammad A D'), ('name', 'Muhammad Asif'), ('education', 'MSDS')])\n",
      "fname Muhammad A D\n",
      "name Muhammad Asif\n",
      "education MSDS\n"
     ]
    }
   ],
   "source": [
    "# Here is the combination of both key and value.\n",
    "\n",
    "\n",
    "\n",
    "Key = Union[int,str] # create custom type\n",
    "Value = Union[int, str, list, dict, tuple, set]\n",
    "\n",
    "data : Dict[Key,Value] = {\n",
    "                        \"fname\":\"Muhammad A D\",\n",
    "                        \"name\":\"Muhammad Asif\",\n",
    "                        \"education\": \"MSDS\"}\n",
    "\n",
    "\n",
    "print(data.keys()) # keys\n",
    "print(data.values()) # values\n",
    "print(data.items())\n",
    "# here we doing the unzip tuple so first value will go in \"k\" and second value in \"v\".\n",
    "for k,v in data.items():\n",
    "    print(k,v)"
   ]
  },
  {
   "cell_type": "code",
   "execution_count": 14,
   "metadata": {},
   "outputs": [
    {
     "data": {
      "text/plain": [
       "{'Muhammad A D': 'fname', 'Muhammad Asif': 'name', 'MSDS': 'education'}"
      ]
     },
     "execution_count": 14,
     "metadata": {},
     "output_type": "execute_result"
    }
   ],
   "source": [
    "# ------------------ Sheffle need in the field of AI -------------\n",
    "\n",
    "# here we did a shefle the key and value. \n",
    "# The key become value and value become key.\n",
    "\n",
    "{v:k for k,v in data.items()}"
   ]
  },
  {
   "cell_type": "code",
   "execution_count": 24,
   "metadata": {},
   "outputs": [
    {
     "name": "stdout",
     "output_type": "stream",
     "text": [
      "3 7\n"
     ]
    }
   ],
   "source": [
    "a : int = 7\n",
    "b : int = 3\n",
    "\n",
    "a, b = b, a # shuffle\n",
    "\n",
    "print(a,b)"
   ]
  },
  {
   "cell_type": "code",
   "execution_count": 27,
   "metadata": {},
   "outputs": [
    {
     "name": "stdout",
     "output_type": "stream",
     "text": [
      "{}\n",
      "{'name': None, 'fname': None, 'id': None, 'course': None}\n"
     ]
    }
   ],
   "source": [
    "# here is the list you make dictionary from it.\n",
    "# Inline : Perforn on the same line.\n",
    "# for updating data variable overwrite. because of over write changes may appear in data.\n",
    "# By the help of keyframe we make dictionary.\n",
    "\n",
    "keys : list[str] = ['name','fname','id','course']\n",
    "\n",
    "data : dict[Key,Value] = {}\n",
    "\n",
    "print(data)\n",
    "\n",
    "data = data.fromkeys(keys) # inline\n",
    "\n",
    "print(data)"
   ]
  },
  {
   "cell_type": "markdown",
   "metadata": {},
   "source": [
    "# Methods of Dictionary"
   ]
  },
  {
   "cell_type": "code",
   "execution_count": 15,
   "metadata": {},
   "outputs": [
    {
     "name": "stdout",
     "output_type": "stream",
     "text": [
      "['clear', 'copy', 'fromkeys', 'get', 'items', 'keys', 'pop', 'popitem', 'setdefault', 'update', 'values']\n"
     ]
    }
   ],
   "source": [
    "# For line showing Click out side the cell and then click \"l\". It show the lines of the cell.\n",
    "# Her we get the methods of Dictionary.\n",
    "\n",
    "\n",
    "Key = Union[int,str] # create custom type\n",
    "Value = Union[int, str, list, dict, tuple, set]\n",
    "\n",
    "data : Dict[Key,Value] = {\n",
    "                        \"fname\":\"Muhammad Aslam\",\n",
    "                        \"name\":\"Muhammad Qasim\",\n",
    "                        \"education\": \"MSDS\"}\n",
    "\n",
    "\n",
    "methods : list[str] = [m for m in dir(data) if \"__\" not in m]\n",
    "print(methods)"
   ]
  },
  {
   "cell_type": "markdown",
   "metadata": {},
   "source": [
    "# clear"
   ]
  },
  {
   "cell_type": "code",
   "execution_count": 16,
   "metadata": {},
   "outputs": [
    {
     "name": "stdout",
     "output_type": "stream",
     "text": [
      "Before {'fname': 'Muhammad A D', 'name': 'Muhammad Asif', 'education': 'MSDS'}\n",
      "After {}\n"
     ]
    }
   ],
   "source": [
    "# Clear : Clear the dictionary but object will remain.\n",
    "\n",
    "\n",
    "Key = Union[int,str] # create custom type\n",
    "Value = Union[int, str, list, dict, tuple, set]\n",
    "\n",
    "data : Dict[Key,Value] = {\n",
    "                        \"fname\":\"Muhammad A D\",\n",
    "                        \"name\":\"Muhammad Asif\",\n",
    "                        \"education\": \"MSDS\"}\n",
    "\n",
    "print(\"Before\", data)\n",
    "\n",
    "data.clear()\n",
    "print(\"After\", data)\n"
   ]
  },
  {
   "cell_type": "markdown",
   "metadata": {},
   "source": [
    "# Delete "
   ]
  },
  {
   "cell_type": "code",
   "execution_count": 17,
   "metadata": {},
   "outputs": [
    {
     "name": "stdout",
     "output_type": "stream",
     "text": [
      "Before {'fname': 'Muhammad A D', 'name': 'Muhammad Asif', 'education': 'MSDS'}\n"
     ]
    },
    {
     "ename": "NameError",
     "evalue": "name 'data' is not defined",
     "output_type": "error",
     "traceback": [
      "\u001b[1;31m---------------------------------------------------------------------------\u001b[0m",
      "\u001b[1;31mNameError\u001b[0m                                 Traceback (most recent call last)",
      "\u001b[1;32mc:\\Users\\Hp\\Desktop\\MOJO 1 SHOT\\Dictionary\\class7.ipynb Cell 26\u001b[0m line \u001b[0;36m1\n\u001b[0;32m     <a href='vscode-notebook-cell:/c%3A/Users/Hp/Desktop/MOJO%201%20SHOT/Dictionary/class7.ipynb#X45sZmlsZQ%3D%3D?line=12'>13</a>\u001b[0m \u001b[39mprint\u001b[39m(\u001b[39m\"\u001b[39m\u001b[39mBefore\u001b[39m\u001b[39m\"\u001b[39m, data)\n\u001b[0;32m     <a href='vscode-notebook-cell:/c%3A/Users/Hp/Desktop/MOJO%201%20SHOT/Dictionary/class7.ipynb#X45sZmlsZQ%3D%3D?line=14'>15</a>\u001b[0m \u001b[39mdel\u001b[39;00m data\n\u001b[1;32m---> <a href='vscode-notebook-cell:/c%3A/Users/Hp/Desktop/MOJO%201%20SHOT/Dictionary/class7.ipynb#X45sZmlsZQ%3D%3D?line=16'>17</a>\u001b[0m \u001b[39mprint\u001b[39m(\u001b[39m\"\u001b[39m\u001b[39mAfter\u001b[39m\u001b[39m\"\u001b[39m, data)\n",
      "\u001b[1;31mNameError\u001b[0m: name 'data' is not defined"
     ]
    }
   ],
   "source": [
    "# DELETE : Delete the entire object.\n",
    "# After object is not present thats why its show error.\n",
    "\n",
    "\n",
    "Key = Union[int,str] # create custom type\n",
    "Value = Union[int, str, list, dict, tuple, set]\n",
    "\n",
    "data : Dict[Key,Value] = {\n",
    "                        \"fname\":\"Muhammad A D\",\n",
    "                        \"name\":\"Muhammad Asif\",\n",
    "                        \"education\": \"MSDS\"}\n",
    "\n",
    "print(\"Before\", data)\n",
    "\n",
    "del data\n",
    "\n",
    "print(\"After\", data)"
   ]
  },
  {
   "cell_type": "markdown",
   "metadata": {},
   "source": [
    "# pop"
   ]
  },
  {
   "cell_type": "code",
   "execution_count": 18,
   "metadata": {},
   "outputs": [
    {
     "name": "stdout",
     "output_type": "stream",
     "text": [
      "Before {'fname': 'Muhammad A D', 'name': 'Muhammad Asif', 'education': 'MSDS'}\n",
      "MSDS\n",
      "After {'fname': 'Muhammad A D', 'name': 'Muhammad Asif'}\n"
     ]
    }
   ],
   "source": [
    "# POP : Remove the item from the last.\n",
    "# POP : Take the argument. at least 1 \n",
    "\n",
    "from typing import Dict, Union, Optional\n",
    "import pprint\n",
    "\n",
    "\n",
    "Key = Union[int,str] # create custom type\n",
    "Value = Union[int, str, list, dict, tuple, set]\n",
    "\n",
    "data : Dict[Key,Value] = {\n",
    "                        \"fname\":\"Muhammad A D\",\n",
    "                        \"name\":\"Muhammad Asif\",\n",
    "                        \"education\": \"MSDS\"}\n",
    "\n",
    "print(\"Before\", data)\n",
    "\n",
    "a : str = data.pop(\"education\")\n",
    "print(a)\n",
    "\n",
    "print(\"After\", data)"
   ]
  },
  {
   "cell_type": "markdown",
   "metadata": {},
   "source": [
    "# popitem"
   ]
  },
  {
   "cell_type": "code",
   "execution_count": 19,
   "metadata": {},
   "outputs": [
    {
     "name": "stdout",
     "output_type": "stream",
     "text": [
      "Before {'fname': 'Muhammad A D', 'name': 'Muhammad Asif', 'education': 'MSDS'}\n",
      "('education', 'MSDS')\n",
      "After {'fname': 'Muhammad A D', 'name': 'Muhammad Asif'}\n"
     ]
    }
   ],
   "source": [
    "# POPITEM : Not take the argument. It also remove the entire item.\n",
    "\n",
    "\n",
    "\n",
    "Key = Union[int,str] # create custom type\n",
    "Value = Union[int, str, list, dict, tuple, set]\n",
    "\n",
    "data : Dict[Key,Value] = {\n",
    "                        \"fname\":\"Muhammad A D\",\n",
    "                        \"name\":\"Muhammad Asif\",\n",
    "                        \"education\": \"MSDS\"}\n",
    "\n",
    "print(\"Before\", data)\n",
    "\n",
    "a : str = data.popitem()\n",
    "print(a)\n",
    "\n",
    "print(\"After\", data)"
   ]
  },
  {
   "cell_type": "markdown",
   "metadata": {},
   "source": [
    "# get"
   ]
  },
  {
   "cell_type": "code",
   "execution_count": 20,
   "metadata": {},
   "outputs": [
    {
     "name": "stdout",
     "output_type": "stream",
     "text": [
      "Before {'fname': 'Muhammad A D', 'name': 'Muhammad Asif', 'education': 'MSDS'}\n",
      "NA\n",
      "After {'fname': 'Muhammad A D', 'name': 'Muhammad Asif', 'education': 'MSDS'}\n"
     ]
    }
   ],
   "source": [
    "# GET : Restrict in generating error. If the value of key is present then it show it.\n",
    "# In which \"key\", \"value\" are passed.\n",
    "\n",
    "\n",
    "\n",
    "\n",
    "Key = Union[int,str] # create custom type\n",
    "Value = Union[int, str, list, dict, tuple, set]\n",
    "\n",
    "data : Dict[Key,Value] = {\n",
    "                        \"fname\":\"Muhammad A D\",\n",
    "                        \"name\":\"Muhammad Asif\",\n",
    "                        \"education\": \"MSDS\"}\n",
    "\n",
    "print(\"Before\", data)\n",
    "\n",
    "a : str = data.get(\"AI\",\"NA\")\n",
    "print(a)\n",
    "\n",
    "print(\"After\", data)"
   ]
  },
  {
   "cell_type": "markdown",
   "metadata": {},
   "source": [
    "# setdefault"
   ]
  },
  {
   "cell_type": "code",
   "execution_count": 21,
   "metadata": {},
   "outputs": [
    {
     "name": "stdout",
     "output_type": "stream",
     "text": [
      "Before {'fname': 'Muhammad A D', 'name': 'Muhammad Asif', 'education': 'MSDS'}\n",
      "AGI\n",
      "After {'fname': 'Muhammad A D', 'name': 'Muhammad Asif', 'education': 'MSDS', 'AI': 'AGI'}\n"
     ]
    }
   ],
   "source": [
    "# SETDEFAULT : In which also key and value are passed. \n",
    "# We say it check the \"Key\" if key is not present then add the \"key\" and we also add it in value.\n",
    "\n",
    "\n",
    "Key = Union[int,str] # create custom type\n",
    "Value = Union[int, str, list, dict, tuple, set]\n",
    "\n",
    "data : Dict[Key,Value] = {\n",
    "                        \"fname\":\"Muhammad A D\",\n",
    "                        \"name\":\"Muhammad Asif\",\n",
    "                        \"education\": \"MSDS\"}\n",
    "\n",
    "print(\"Before\", data)\n",
    "\n",
    "a : str = data.setdefault(\"AI\",\"AGI\")\n",
    "print(a)\n",
    "\n",
    "print(\"After\", data)"
   ]
  },
  {
   "cell_type": "markdown",
   "metadata": {},
   "source": [
    "# update"
   ]
  },
  {
   "cell_type": "code",
   "execution_count": 22,
   "metadata": {},
   "outputs": [
    {
     "data": {
      "text/plain": [
       "{'fname': 'Muhammad A D',\n",
       " 'name': 'M.Asif',\n",
       " 'education': 'MSDS',\n",
       " 'age': 25,\n",
       " 'Height': '5.6 Feet'}"
      ]
     },
     "execution_count": 22,
     "metadata": {},
     "output_type": "execute_result"
    }
   ],
   "source": [
    "# UPDATE : New things add in dictionay\n",
    "\n",
    "Key = Union[int,str] # create custom type\n",
    "Value = Union[int, str, list, dict, tuple, set]\n",
    "\n",
    "data : Dict[Key,Value] = {\n",
    "                        \"fname\":\"Muhammad A D\",\n",
    "                        \"name\":\"Muhammad Asif\",\n",
    "                        \"education\": \"MSDS\"}\n",
    "\n",
    "\n",
    "data1 : Dict[Key,Value] = {\"name\":\"M.Asif\",\n",
    "                           \"age\":25,\n",
    "                           \"Height\": \"5.6 Feet\"}\n",
    "\n",
    "data.update(data1)\n",
    "\n",
    "data"
   ]
  },
  {
   "cell_type": "code",
   "execution_count": 23,
   "metadata": {},
   "outputs": [
    {
     "data": {
      "text/html": [
       "<div>\n",
       "<style scoped>\n",
       "    .dataframe tbody tr th:only-of-type {\n",
       "        vertical-align: middle;\n",
       "    }\n",
       "\n",
       "    .dataframe tbody tr th {\n",
       "        vertical-align: top;\n",
       "    }\n",
       "\n",
       "    .dataframe thead th {\n",
       "        text-align: right;\n",
       "    }\n",
       "</style>\n",
       "<table border=\"1\" class=\"dataframe\">\n",
       "  <thead>\n",
       "    <tr style=\"text-align: right;\">\n",
       "      <th></th>\n",
       "      <th>roll no</th>\n",
       "      <th>Name</th>\n",
       "      <th>education</th>\n",
       "    </tr>\n",
       "  </thead>\n",
       "  <tbody>\n",
       "    <tr>\n",
       "      <th>0</th>\n",
       "      <td>1</td>\n",
       "      <td>Umer</td>\n",
       "      <td>Master</td>\n",
       "    </tr>\n",
       "    <tr>\n",
       "      <th>1</th>\n",
       "      <td>2</td>\n",
       "      <td>Aamir</td>\n",
       "      <td>Master</td>\n",
       "    </tr>\n",
       "    <tr>\n",
       "      <th>2</th>\n",
       "      <td>3</td>\n",
       "      <td>Muhammad Asif</td>\n",
       "      <td>Master</td>\n",
       "    </tr>\n",
       "  </tbody>\n",
       "</table>\n",
       "</div>"
      ],
      "text/plain": [
       "   roll no           Name education\n",
       "0        1           Umer    Master\n",
       "1        2          Aamir    Master\n",
       "2        3  Muhammad Asif    Master"
      ]
     },
     "execution_count": 23,
     "metadata": {},
     "output_type": "execute_result"
    }
   ],
   "source": [
    "# In all database we used dataframe means tabular data. we used this by pandas.\n",
    "# df : Means dataframe its is a excel table, dataframe type from pd extract dataframe\n",
    "\n",
    "# When we pass the data in pd.dataframe, it convert in to dataframe and come in tabular form.\n",
    "# DICTIONAY : convert into tabular data in pandas. and used in conectivity e.g : MONGODB.\n",
    "\n",
    "# JSONL : Is a big data which is also a dictionay.\n",
    "\n",
    "# Below code show we used dictionary in structure form.\n",
    "\n",
    "\n",
    "import pandas as pd\n",
    "from typing import Any\n",
    "\n",
    "\n",
    "students_data : Dict[str, list[Any]] = {\n",
    "    \"roll no\": [1,2,3],\n",
    "    \"Name\": [\"Umer\",\"Aamir\",\"Muhammad Asif\"],\n",
    "    \"education\": [\"Master\",\"Master\",\"Master\"]\n",
    "}\n",
    "\n",
    "df : pd.DataFrame = pd.DataFrame(students_data)\n",
    "\n",
    "df"
   ]
  },
  {
   "cell_type": "code",
   "execution_count": 24,
   "metadata": {},
   "outputs": [
    {
     "name": "stdout",
     "output_type": "stream",
     "text": [
      "{'fname': 'Muhammad A D', 'name': 'M.Asif', 'education': 'MSDS'}\n"
     ]
    }
   ],
   "source": [
    "# KEYS : are always unique if you write a multiple kyes it only show the value of recent key. or last key. \n",
    "# Values : we assign multiple by set, tuple, dictionary.\n",
    "\n",
    "Key = Union[int,str] # create custom type\n",
    "Value = Union[int, str, list, dict, tuple, set]\n",
    "\n",
    "data : Dict[Key,Value] = {\n",
    "                        \"fname\":\"Muhammad A D\",\n",
    "                        \"name\":\"Muhammad Asif\",\n",
    "                        \"education\": \"MSDS\",\n",
    "                        \"name\":\"M.Asif\"}\n",
    "\n",
    "print(data)"
   ]
  },
  {
   "cell_type": "markdown",
   "metadata": {},
   "source": [
    "# Converting dictionary in to json format."
   ]
  },
  {
   "cell_type": "code",
   "execution_count": 26,
   "metadata": {},
   "outputs": [
    {
     "name": "stdout",
     "output_type": "stream",
     "text": [
      "{'fname': 'Muhammad A D', 'name': 'Muhammad Asif', 'education': 'MSDS'}\n",
      "<class 'dict'>\n"
     ]
    }
   ],
   "source": [
    "# Here is a dictionary.\n",
    "\n",
    "Key = Union[int,str] # create custom type\n",
    "Value = Union[int, str, list, dict, tuple, set]\n",
    "\n",
    "data : Dict[Key,Value] = {\n",
    "                        \"fname\":\"Muhammad A D\",\n",
    "                        \"name\":\"Muhammad Asif\",\n",
    "                        \"education\": \"MSDS\"}\n",
    "\n",
    "print(data)\n",
    "print(type(data))"
   ]
  },
  {
   "cell_type": "code",
   "execution_count": 27,
   "metadata": {},
   "outputs": [
    {
     "name": "stdout",
     "output_type": "stream",
     "text": [
      "<class 'str'>\n"
     ]
    },
    {
     "data": {
      "text/plain": [
       "'{\\n    \"fname\": \"Muhammad A D\",\\n    \"name\": \"Muhammad Asif\",\\n    \"education\": \"MSDS\"\\n}'"
      ]
     },
     "metadata": {},
     "output_type": "display_data"
    },
    {
     "name": "stdout",
     "output_type": "stream",
     "text": [
      "{\n",
      "    \"fname\": \"Muhammad A D\",\n",
      "    \"name\": \"Muhammad Asif\",\n",
      "    \"education\": \"MSDS\"\n",
      "}\n"
     ]
    }
   ],
   "source": [
    "# Converting dictionary in to json format.\n",
    "# json is a format transfer things from one computer to another.\n",
    "\n",
    "import json\n",
    "\n",
    "data1  = json.dumps(data, indent=4)\n",
    "\n",
    "print(type(data1))\n",
    "display(data1)\n",
    "print(data1)"
   ]
  },
  {
   "cell_type": "code",
   "execution_count": null,
   "metadata": {},
   "outputs": [],
   "source": []
  }
 ],
 "metadata": {
  "kernelspec": {
   "display_name": "Python 3",
   "language": "python",
   "name": "python3"
  },
  "language_info": {
   "codemirror_mode": {
    "name": "ipython",
    "version": 3
   },
   "file_extension": ".py",
   "mimetype": "text/x-python",
   "name": "python",
   "nbconvert_exporter": "python",
   "pygments_lexer": "ipython3",
   "version": "3.12.0"
  }
 },
 "nbformat": 4,
 "nbformat_minor": 2
}
