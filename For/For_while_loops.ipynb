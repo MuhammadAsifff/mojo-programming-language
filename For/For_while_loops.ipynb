{
 "cells": [
  {
   "cell_type": "markdown",
   "metadata": {},
   "source": [
    "# Loop \n",
    "\n",
    "# Two types of loop:\n",
    "* for\n",
    "* while\n",
    "\n",
    "# controls\n",
    "    * break\n",
    "    * continue\n",
    "    * pass\n",
    "    \n",
    "# Loop working on iterative data types\n",
    "* list\n",
    "* dictionary\n",
    "* tuple\n",
    "* string"
   ]
  },
  {
   "cell_type": "code",
   "execution_count": 1,
   "metadata": {},
   "outputs": [
    {
     "name": "stdout",
     "output_type": "stream",
     "text": [
      "[1, 2, 3, 4, 5, 6]\n"
     ]
    }
   ],
   "source": [
    "# Why need of iteration ? \n",
    "# Iteration datatype in which iteration is performed. Iteration performed by element wise.\n",
    "# iteration means you pick element one by one from the list.\n",
    "\n",
    "#                 0 1 2 3 4 5\n",
    "l1 : list[int] = [1,2,3,4,5,6]\n",
    "print(l1)"
   ]
  },
  {
   "cell_type": "code",
   "execution_count": 2,
   "metadata": {},
   "outputs": [
    {
     "name": "stdout",
     "output_type": "stream",
     "text": [
      "1\n",
      "2\n",
      "3\n",
      "4\n",
      "5\n",
      "6\n"
     ]
    }
   ],
   "source": [
    "# iteration means aik aik element nikalo or usay print krwatay jayoo.\n",
    "# Iteration means take one one element and print it. We do this by many ways e.g : for loop.\n",
    "# Here \"n\" is a local variable that by \"in\" operator by \"l1\" perform one one iteration.\n",
    "# (yaha \"n\" aik local variable hay jo k \"in\" operator kay zariyee \"l1\" say aik aik iteration perform kray ga.)\n",
    "# Here he printing one one element.\n",
    "# (jo bhi element hongy us ko iterate krtay huvay iteration perform kray ga.)\n",
    "\n",
    "#                 0 1 2 3 4 5\n",
    "l1 : list[int] = [1,2,3,4,5,6]\n",
    "\n",
    "for n in l1:\n",
    "    print(n)"
   ]
  },
  {
   "cell_type": "code",
   "execution_count": 4,
   "metadata": {},
   "outputs": [],
   "source": [
    "# Demo of iteration.\n",
    "\n",
    "\n",
    "for n in  [,2,3]\n",
    "      print(n)\n",
    "\n",
    "for n=1 in  [,2,3]\n",
    "      print(1)\n",
    "\n",
    "for n=2 in  [3]\n",
    "      print(2)\n",
    "\n",
    "for n=3 in  [,,]\n",
    "      print(3)\n",
    "\n",
    "# Print function, print 1 and line change. print 2 line change.\n",
    "\n",
    "1\n",
    "2\n",
    "3"
   ]
  },
  {
   "cell_type": "code",
   "execution_count": 5,
   "metadata": {},
   "outputs": [
    {
     "name": "stdout",
     "output_type": "stream",
     "text": [
      "current number :1\n",
      "current number :2\n",
      "current number :3\n",
      "current number :4\n",
      "current number :5\n",
      "current number :6\n"
     ]
    }
   ],
   "source": [
    "# (Data jo store huva huva hay iterative datatype may individualy ksi kam ka nhi hay. Ap us data ko utha kr dosri text combination kay sath, \n",
    "# --kush variable kay sath kush logic lagatay hay, kush combination lagaty hay us kay baad kush meaningful cheez bnti hay)\n",
    "# Data in iterative datatyped individually has no worth. Until unless you some logic in it.\n",
    "\n",
    "\n",
    "# Iteration on list\n",
    "\n",
    "# (Hum aik aik element nikaltay hay or us ko ksi operation kay sath merge kr detay hay koi syntex waghera bna kay, yaha current number \n",
    "# text likha huva hay or us ko aik aik variable kay sath gor deya hay jo k aik aik kr kay nikal rha tha)\n",
    "\n",
    "#                 0 1 2 3 4 5\n",
    "l1 : list[int] = [1,2,3,4,5,6]\n",
    "\n",
    "for n in l1:\n",
    "    print(f\"current number :{n}\")"
   ]
  },
  {
   "cell_type": "code",
   "execution_count": 6,
   "metadata": {},
   "outputs": [
    {
     "name": "stdout",
     "output_type": "stream",
     "text": [
      "current number :1\n",
      "current number :2\n",
      "current number :3\n",
      "current number :4\n",
      "current number :5\n",
      "current number :6\n"
     ]
    }
   ],
   "source": [
    "# Iteration on tuple\n",
    "\n",
    "#                 0 1 2 3 4 5\n",
    "l1 : tuple[int] = (1,2,3,4,5,6)\n",
    "\n",
    "for n in l1:\n",
    "    print(f\"current number :{n}\")"
   ]
  },
  {
   "cell_type": "code",
   "execution_count": 1,
   "metadata": {},
   "outputs": [
    {
     "name": "stdout",
     "output_type": "stream",
     "text": [
      "current character :N\n",
      "current character :A\n",
      "current character :T\n",
      "current character :I\n",
      "current character :M\n",
      "current character :E\n",
      "current character :S\n"
     ]
    }
   ],
   "source": [
    "# Iteration on string\n",
    "\n",
    "# It pick one one character and by f-string we print it.\n",
    "\n",
    "#           0123456\n",
    "l1 : str = \"NATIMES\"\n",
    "\n",
    "for c in l1:\n",
    "    print(f\"current character :{c}\")"
   ]
  },
  {
   "cell_type": "code",
   "execution_count": 9,
   "metadata": {},
   "outputs": [
    {
     "name": "stdout",
     "output_type": "stream",
     "text": [
      "dictionary key name and value is Muhammad Asif\n",
      "dictionary key fname and value is Muhammad A D\n"
     ]
    }
   ],
   "source": [
    "# Iteration on dictionary\n",
    "\n",
    "# On the dictionary by default iteration perform on keys.\n",
    "\n",
    "#           iteration perform on keys\n",
    "l1 : dict[str,str] = {\"name\":\"Muhammad Asif\",\"fname\":\"Muhammad A D\"}\n",
    "\n",
    "for k in l1:\n",
    "    print(f\"dictionary key {k} and value is {l1[k]}\")"
   ]
  },
  {
   "cell_type": "code",
   "execution_count": 1,
   "metadata": {},
   "outputs": [
    {
     "name": "stdout",
     "output_type": "stream",
     "text": [
      "set item is  1 \n",
      "set item is  2 \n",
      "set item is  3 \n",
      "set item is  4 \n"
     ]
    }
   ],
   "source": [
    "# Iteration on set datatype\n",
    "\n",
    "\n",
    "l1 : set[int] = {1,2,3,4,1,1,1,1}\n",
    "\n",
    "for k in l1:\n",
    "    print(f\"set item is  {k} \")"
   ]
  },
  {
   "cell_type": "markdown",
   "metadata": {},
   "source": [
    "# extracting the even or odd numbers from the list."
   ]
  },
  {
   "cell_type": "code",
   "execution_count": 8,
   "metadata": {},
   "outputs": [
    {
     "data": {
      "text/plain": [
       "[4, 16, 12, 22]"
      ]
     },
     "execution_count": 8,
     "metadata": {},
     "output_type": "execute_result"
    }
   ],
   "source": [
    "data : list[int] = [1,3,5,4,3,15,16,12,22]\n",
    "\n",
    "# extract even numbers from this list\n",
    "\n",
    "[i  for i in data if i%2==0]"
   ]
  },
  {
   "cell_type": "code",
   "execution_count": 9,
   "metadata": {},
   "outputs": [
    {
     "data": {
      "text/plain": [
       "[1, 3, 5, 7, 11, 17, 7, 3, 15]"
      ]
     },
     "execution_count": 9,
     "metadata": {},
     "output_type": "execute_result"
    }
   ],
   "source": [
    "data : list[int] = [1,3,5,6,7,11,17,7,3,15,18]\n",
    "\n",
    "# extract odd numbers from this list\n",
    "\n",
    "[i  for i in data if i%2!=0]"
   ]
  },
  {
   "cell_type": "markdown",
   "metadata": {},
   "source": [
    "# Generatings tables\n",
    "\n",
    "* Generate the table you went"
   ]
  },
  {
   "cell_type": "code",
   "execution_count": 2,
   "metadata": {},
   "outputs": [
    {
     "name": "stdout",
     "output_type": "stream",
     "text": [
      "3 X 1 = 3\n",
      "3 X 2 = 6\n",
      "3 X 3 = 9\n",
      "3 X 4 = 12\n",
      "3 X 5 = 15\n",
      "3 X 6 = 18\n",
      "3 X 7 = 21\n",
      "3 X 8 = 24\n",
      "3 X 9 = 27\n",
      "3 X 10 = 30\n"
     ]
    }
   ],
   "source": [
    "for i in range(1,11):\n",
    "    print(f\"3 X {i} = {i*3}\")"
   ]
  },
  {
   "cell_type": "markdown",
   "metadata": {},
   "source": [
    "# Zip with for loop"
   ]
  },
  {
   "cell_type": "code",
   "execution_count": 2,
   "metadata": {},
   "outputs": [
    {
     "data": {
      "text/plain": [
       "<zip at 0x24ed55d8180>"
      ]
     },
     "execution_count": 2,
     "metadata": {},
     "output_type": "execute_result"
    }
   ],
   "source": [
    "# zip is generator function it is not directly execute on \n",
    "# --it iteration must be performed.\n",
    "\n",
    "names : list[str] = ['Muhammad Asif','Muhammad Aamir']\n",
    "fname : list[str] = ['A D','A D','A D']\n",
    "age : list[int] = [25,21]\n",
    "\n",
    "zip(names,fname,age)"
   ]
  },
  {
   "cell_type": "code",
   "execution_count": 3,
   "metadata": {},
   "outputs": [
    {
     "name": "stdout",
     "output_type": "stream",
     "text": [
      "Welcome  Muhammad Asif, s/o A D, age 25 years!\n",
      "Welcome  Muhammad Aamir, s/o A D, age 21 years!\n"
     ]
    }
   ],
   "source": [
    "# For iteration we put a list function on the zip function.\n",
    "\n",
    "names : list[str] = ['Muhammad Asif','Muhammad Aamir']\n",
    "fname : list[str] = ['A D','A D','A D']\n",
    "age : list[int] = [25,21]\n",
    "\n",
    "list(zip(names,fname,age))\n",
    "\n",
    "for name,fn, ag in zip(names,fname,age):\n",
    "    print(f\"Welcome  {name}, s/o {fn}, age {ag} years!\")"
   ]
  },
  {
   "cell_type": "markdown",
   "metadata": {},
   "source": [
    "# controls In for loop\n",
    "* break : Used for stop. Not runing the entire code but runing the some of the portion of the code for test.\n",
    "* continue\n",
    "    * skip : On particular part\n",
    "* pass"
   ]
  },
  {
   "cell_type": "markdown",
   "metadata": {},
   "source": [
    "# Break"
   ]
  },
  {
   "cell_type": "code",
   "execution_count": 5,
   "metadata": {},
   "outputs": [
    {
     "name": "stdout",
     "output_type": "stream",
     "text": [
      "1\n",
      "2\n",
      "3\n",
      "4\n",
      "5\n"
     ]
    }
   ],
   "source": [
    "for i in range(1,11):\n",
    "    print(i)\n",
    "    if i == 5:\n",
    "        break"
   ]
  },
  {
   "cell_type": "markdown",
   "metadata": {},
   "source": [
    "# Continue"
   ]
  },
  {
   "cell_type": "code",
   "execution_count": 4,
   "metadata": {},
   "outputs": [
    {
     "name": "stdout",
     "output_type": "stream",
     "text": [
      "1\n",
      "2\n",
      "3\n",
      "4\n",
      "6\n",
      "7\n",
      "8\n",
      "9\n",
      "10\n"
     ]
    }
   ],
   "source": [
    "# Continue : skip at that particular path.\n",
    "\n",
    "for i in range(1, 11):  # Creating a range from 1 to 10\n",
    "    if i == 5:\n",
    "        continue  # Skipping the iteration when i is 5\n",
    "    print(i)"
   ]
  },
  {
   "cell_type": "markdown",
   "metadata": {},
   "source": [
    "# Pass"
   ]
  },
  {
   "cell_type": "code",
   "execution_count": 5,
   "metadata": {},
   "outputs": [
    {
     "ename": "SyntaxError",
     "evalue": "incomplete input (1050359147.py, line 1)",
     "output_type": "error",
     "traceback": [
      "\u001b[1;36m  Cell \u001b[1;32mIn[5], line 1\u001b[1;36m\u001b[0m\n\u001b[1;33m    for i in range(1,1000):\u001b[0m\n\u001b[1;37m                           ^\u001b[0m\n\u001b[1;31mSyntaxError\u001b[0m\u001b[1;31m:\u001b[0m incomplete input\n"
     ]
    }
   ],
   "source": [
    "for i in range(1,1000):"
   ]
  },
  {
   "cell_type": "code",
   "execution_count": 6,
   "metadata": {},
   "outputs": [],
   "source": [
    "# Loop or Block I write now but Logic I create after. So I write pass in it so it does not generate error.\n",
    "# (If walay bolck pr kya krna hay wo may baad may decide kroon ga, Error na ayee is leyee \"pass\" likh deya hay)\n",
    "\n",
    "for i in range(1,1000):\n",
    "    pass"
   ]
  },
  {
   "cell_type": "markdown",
   "metadata": {},
   "source": [
    "# INPUT :\n",
    "  * By the input we take input from user on run with the help of pop up appear on screen.\n",
    "  * The things pass in input convert in to string and then work on it.\n",
    "  * With the help of input we made a system in which we staore data in list of dictionary, list of tuple or list of list"
   ]
  },
  {
   "cell_type": "markdown",
   "metadata": {},
   "source": [
    "# input from user :\n",
    "\n",
    "    * Object : The thing you pass also receive the same thing (Means jo pass krain gay wohi receive krain gay)\n"
   ]
  },
  {
   "cell_type": "code",
   "execution_count": 7,
   "metadata": {},
   "outputs": [
    {
     "name": "stdout",
     "output_type": "stream",
     "text": [
      "Sorry, You are ineligible for Vote\n"
     ]
    }
   ],
   "source": [
    "age:int = int(input(\"How old are you? \"))\n",
    "\n",
    "if age >= 18:\n",
    " print('You are eligible for Vote')\n",
    "else:\n",
    " print('Sorry, You are ineligible for Vote')"
   ]
  },
  {
   "cell_type": "code",
   "execution_count": 1,
   "metadata": {},
   "outputs": [
    {
     "name": "stdout",
     "output_type": "stream",
     "text": [
      "<class 'str'>\n",
      "Welecom dear User Mr/Miss Muhammad Asif!\n"
     ]
    }
   ],
   "source": [
    "# ` make simple example of while loop in python static type\n",
    "# Taking the input \n",
    "\n",
    "name : str = input(\"What is your name? : \\t\")\n",
    "\n",
    "print(type(name))\n",
    "\n",
    "print(f\"Welecom dear User Mr/Miss {name}!\")"
   ]
  },
  {
   "cell_type": "markdown",
   "metadata": {},
   "source": [
    "# While loop : Similar to if condition\n",
    "* While loop will run until he get the false value.\n",
    "``````\n",
    " while logic: # True/False\n",
    "    loop_body\n",
    "``````"
   ]
  },
  {
   "cell_type": "markdown",
   "metadata": {},
   "source": [
    "# Basic while loop:"
   ]
  },
  {
   "cell_type": "code",
   "execution_count": 9,
   "metadata": {},
   "outputs": [
    {
     "name": "stdout",
     "output_type": "stream",
     "text": [
      "0\n",
      "1\n",
      "2\n",
      "3\n",
      "4\n"
     ]
    }
   ],
   "source": [
    "count: int = 0\n",
    "\n",
    "while count < 5:\n",
    "    print(count)\n",
    "    count += 1"
   ]
  },
  {
   "cell_type": "markdown",
   "metadata": {},
   "source": [
    "# While loop with a break statement:"
   ]
  },
  {
   "cell_type": "code",
   "execution_count": 13,
   "metadata": {},
   "outputs": [
    {
     "name": "stdout",
     "output_type": "stream",
     "text": [
      "1\n",
      "3\n",
      "5\n",
      "7\n",
      "9\n"
     ]
    }
   ],
   "source": [
    "value: int = 1\n",
    "\n",
    "while True:\n",
    "    print(value)\n",
    "    value += 2\n",
    "    if value > 10:\n",
    "        break"
   ]
  },
  {
   "cell_type": "markdown",
   "metadata": {},
   "source": [
    "# While loop with multiple conditions:"
   ]
  },
  {
   "cell_type": "code",
   "execution_count": 14,
   "metadata": {},
   "outputs": [
    {
     "name": "stdout",
     "output_type": "stream",
     "text": [
      "Counter: 0, Total: 0\n",
      "Counter: 1, Total: 1\n",
      "Counter: 2, Total: 3\n",
      "Counter: 3, Total: 6\n",
      "Counter: 4, Total: 10\n"
     ]
    }
   ],
   "source": [
    "counter: int = 0\n",
    "total: int = 0\n",
    "\n",
    "while counter < 5 and total < 20:\n",
    "    print(f\"Counter: {counter}, Total: {total}\")\n",
    "    counter += 1\n",
    "    total += counter"
   ]
  },
  {
   "cell_type": "markdown",
   "metadata": {},
   "source": [
    "# Nested while loop:"
   ]
  },
  {
   "cell_type": "code",
   "execution_count": 15,
   "metadata": {},
   "outputs": [
    {
     "name": "stdout",
     "output_type": "stream",
     "text": [
      "Outer: 1, Inner: 1\n",
      "Outer: 1, Inner: 2\n",
      "Outer: 1, Inner: 3\n",
      "Outer: 2, Inner: 1\n",
      "Outer: 2, Inner: 2\n",
      "Outer: 2, Inner: 3\n",
      "Outer: 3, Inner: 1\n",
      "Outer: 3, Inner: 2\n",
      "Outer: 3, Inner: 3\n"
     ]
    }
   ],
   "source": [
    "outer: int = 1\n",
    "\n",
    "while outer <= 3:\n",
    "    inner: int = 1\n",
    "    while inner <= 3:\n",
    "        print(f\"Outer: {outer}, Inner: {inner}\")\n",
    "        inner += 1\n",
    "    outer += 1"
   ]
  }
 ],
 "metadata": {
  "kernelspec": {
   "display_name": "Python 3",
   "language": "python",
   "name": "python3"
  },
  "language_info": {
   "codemirror_mode": {
    "name": "ipython",
    "version": 3
   },
   "file_extension": ".py",
   "mimetype": "text/x-python",
   "name": "python",
   "nbconvert_exporter": "python",
   "pygments_lexer": "ipython3",
   "version": "3.12.0"
  }
 },
 "nbformat": 4,
 "nbformat_minor": 2
}
