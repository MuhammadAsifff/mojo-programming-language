{
 "cells": [
  {
   "cell_type": "code",
   "execution_count": 9,
   "metadata": {},
   "outputs": [],
   "source": [
    "name1 : str = 'Asif'\n",
    "name2 : str = 'AI' \n",
    "name3 : str = 'AGI' "
   ]
  },
  {
   "cell_type": "markdown",
   "metadata": {},
   "source": [
    "# List\n",
    "\n",
    "# Syntex :\n",
    "\n",
    "* Write the name of variable in plural,\n",
    "* Square bracket,\n",
    "* Values are comma separated in which elements are present. \n",
    "\n",
    "\n",
    "* Hetrogenous data types : Elements are of any datatype. no restriction.\n",
    "* Dynamic length : It has no limit you can save value as much as you can\n",
    "* List start from :\n",
    "*   -> : left to right (iteration from left to right)\n",
    "*    <- :Right to left: is used in data science,where we see data from both side, left to right and right to left\n",
    "\n",
    "* Benefits of negative index : suppose we see the last commit in the post, because we not know the length of commit\n",
    "\n",
    "* We get the element from list by indexing by two ways :\n",
    "* POSITVE INDEX : From the start point. / 0 to n-1\n",
    "* NEGATIVE INDEX : From the end point.  / -1 to length\n",
    "\n",
    "\n",
    "* Slicing : Getting values from list without index number.\n",
    "* Variable name : [start:end:step]\n",
    "* start : int = It show where you start or get the value from list.\n",
    "* end : int = n-1\n",
    "* step : int = Sequance"
   ]
  },
  {
   "cell_type": "code",
   "execution_count": 14,
   "metadata": {},
   "outputs": [
    {
     "name": "stdout",
     "output_type": "stream",
     "text": [
      "Muhammad Asif\n",
      "AI\n",
      "True\n"
     ]
    }
   ],
   "source": [
    "# Any : is a type , in list you store any type of data wheter it is string, number, boolean etc.\n",
    "\n",
    "from typing import Any\n",
    "\n",
    "# ->                            0     1      2    3   4\n",
    "names : list[Any] = ['Muhammad Asif','AI', 'AGI', 20, True]\n",
    "# <-                       -5         -4     -3   -2   -1\n",
    "\n",
    "print(names[0]) # Muhammad Asif\n",
    "print(names[-4]) # AI\n",
    "print(names[-1]) # True"
   ]
  },
  {
   "cell_type": "code",
   "execution_count": 15,
   "metadata": {},
   "outputs": [
    {
     "name": "stdout",
     "output_type": "stream",
     "text": [
      "6\n"
     ]
    },
    {
     "ename": "IndexError",
     "evalue": "list index out of range",
     "output_type": "error",
     "traceback": [
      "\u001b[1;31m---------------------------------------------------------------------------\u001b[0m",
      "\u001b[1;31mIndexError\u001b[0m                                Traceback (most recent call last)",
      "\u001b[1;32mc:\\Users\\Hp\\Desktop\\MOJO 1 SHOT\\Datatypes,String\\list.ipynb Cell 4\u001b[0m line \u001b[0;36m5\n\u001b[0;32m      <a href='vscode-notebook-cell:/c%3A/Users/Hp/Desktop/MOJO%201%20SHOT/Datatypes%2CString/list.ipynb#W3sZmlsZQ%3D%3D?line=2'>3</a>\u001b[0m names :\u001b[39mlist\u001b[39m[\u001b[39mstr\u001b[39m] \u001b[39m=\u001b[39m \u001b[39mlist\u001b[39m(\u001b[39m\"\u001b[39m\u001b[39mACBDEF\u001b[39m\u001b[39m\"\u001b[39m)\n\u001b[0;32m      <a href='vscode-notebook-cell:/c%3A/Users/Hp/Desktop/MOJO%201%20SHOT/Datatypes%2CString/list.ipynb#W3sZmlsZQ%3D%3D?line=3'>4</a>\u001b[0m \u001b[39mprint\u001b[39m(\u001b[39mlen\u001b[39m(names))\n\u001b[1;32m----> <a href='vscode-notebook-cell:/c%3A/Users/Hp/Desktop/MOJO%201%20SHOT/Datatypes%2CString/list.ipynb#W3sZmlsZQ%3D%3D?line=4'>5</a>\u001b[0m names[\u001b[39m10\u001b[39;49m]\n",
      "\u001b[1;31mIndexError\u001b[0m: list index out of range"
     ]
    }
   ],
   "source": [
    "# If we give the index number to get the value from list greater then list index then it give error\n",
    "\n",
    "names :list[str] = list(\"ACBDEF\")\n",
    "print(len(names))\n",
    "names[10]"
   ]
  },
  {
   "cell_type": "code",
   "execution_count": 3,
   "metadata": {},
   "outputs": [
    {
     "data": {
      "text/plain": [
       "3"
      ]
     },
     "execution_count": 3,
     "metadata": {},
     "output_type": "execute_result"
    }
   ],
   "source": [
    "# Checking the length of list\n",
    "\n",
    "len(names)"
   ]
  },
  {
   "cell_type": "code",
   "execution_count": 16,
   "metadata": {},
   "outputs": [
    {
     "name": "stdout",
     "output_type": "stream",
     "text": [
      "['Muhammad Asif', 'AI', 'AGI', 20, True]\n",
      "['M Asif', 'AI', 'AGI', 20, True]\n"
     ]
    }
   ],
   "source": [
    "# list are mutable that means we changed them.\n",
    "\n",
    "# ->                            0     1      2    3   4\n",
    "names : list[Any] = ['Muhammad Asif','AI', 'AGI', 20, True]\n",
    "# <-                       -5         -4     -3   -2   -1\n",
    "\n",
    "print(names)\n",
    "\n",
    "names[0] = \"M Asif\" # mutable -> editable\n",
    "\n",
    "print(names)"
   ]
  },
  {
   "cell_type": "code",
   "execution_count": 17,
   "metadata": {},
   "outputs": [
    {
     "name": "stdout",
     "output_type": "stream",
     "text": [
      "<class 'list'>\n",
      "<class 'str'>\n",
      "Founder of AI: ALAN \n"
     ]
    }
   ],
   "source": [
    "# We get the element from list and see the result of getting element in the f-string.\n",
    "\n",
    "# ->                    0    1         2\n",
    "names : list[Any] = [\"Asif\",\"Alan \",\"AI\"]\n",
    "# <-                    -3    -2     -1\n",
    "\n",
    "print(type(names))\n",
    "print(type(names[-2]))\n",
    "\n",
    "print(f'Founder of AI: {names[-2].upper()}')"
   ]
  },
  {
   "cell_type": "markdown",
   "metadata": {},
   "source": [
    "# List methods"
   ]
  },
  {
   "cell_type": "code",
   "execution_count": 15,
   "metadata": {},
   "outputs": [
    {
     "data": {
      "text/plain": [
       "['append',\n",
       " 'clear',\n",
       " 'copy',\n",
       " 'count',\n",
       " 'extend',\n",
       " 'index',\n",
       " 'insert',\n",
       " 'pop',\n",
       " 'remove',\n",
       " 'reverse',\n",
       " 'sort']"
      ]
     },
     "execution_count": 15,
     "metadata": {},
     "output_type": "execute_result"
    }
   ],
   "source": [
    "[i for i in dir(list) if \"__\" not in i]"
   ]
  },
  {
   "cell_type": "markdown",
   "metadata": {},
   "source": [
    "# append \n",
    "    * It add element in the last."
   ]
  },
  {
   "cell_type": "code",
   "execution_count": 8,
   "metadata": {},
   "outputs": [
    {
     "name": "stdout",
     "output_type": "stream",
     "text": [
      "['a', 'b', 'c', 'Asif', 'AI']\n"
     ]
    }
   ],
   "source": [
    "names : list[str] = ['a','b','c']\n",
    "\n",
    "names.append(\"Asif\")# add element in last\n",
    "names.append(\"AI\") # add element in last\n",
    "\n",
    "\n",
    "print(names)"
   ]
  },
  {
   "cell_type": "markdown",
   "metadata": {},
   "source": [
    "# Delete"
   ]
  },
  {
   "cell_type": "code",
   "execution_count": 17,
   "metadata": {},
   "outputs": [
    {
     "ename": "NameError",
     "evalue": "name 'a' is not defined",
     "output_type": "error",
     "traceback": [
      "\u001b[1;31m---------------------------------------------------------------------------\u001b[0m",
      "\u001b[1;31mNameError\u001b[0m                                 Traceback (most recent call last)",
      "\u001b[1;32mc:\\Users\\Hp\\Desktop\\MOJO 1 SHOT\\Datatypes,String\\list.ipynb Cell 11\u001b[0m line \u001b[0;36m3\n\u001b[0;32m      <a href='vscode-notebook-cell:/c%3A/Users/Hp/Desktop/MOJO%201%20SHOT/Datatypes%2CString/list.ipynb#X41sZmlsZQ%3D%3D?line=0'>1</a>\u001b[0m a: \u001b[39mlist\u001b[39m[\u001b[39mstr\u001b[39m] \u001b[39m=\u001b[39m [\u001b[39m1\u001b[39m,\u001b[39m2\u001b[39m,\u001b[39m3\u001b[39m]\n\u001b[0;32m      <a href='vscode-notebook-cell:/c%3A/Users/Hp/Desktop/MOJO%201%20SHOT/Datatypes%2CString/list.ipynb#X41sZmlsZQ%3D%3D?line=1'>2</a>\u001b[0m \u001b[39mdel\u001b[39;00m a \u001b[39m# remove object from memory\u001b[39;00m\n\u001b[1;32m----> <a href='vscode-notebook-cell:/c%3A/Users/Hp/Desktop/MOJO%201%20SHOT/Datatypes%2CString/list.ipynb#X41sZmlsZQ%3D%3D?line=2'>3</a>\u001b[0m \u001b[39mprint\u001b[39m(a)\n",
      "\u001b[1;31mNameError\u001b[0m: name 'a' is not defined"
     ]
    }
   ],
   "source": [
    "a: list[str] = [1,2,3]\n",
    "del a # remove object from memory\n",
    "print(a)"
   ]
  },
  {
   "cell_type": "code",
   "execution_count": 20,
   "metadata": {},
   "outputs": [
    {
     "name": "stdout",
     "output_type": "stream",
     "text": [
      "['Muhammad Asif', 'AI', 'AGI', 20, True]\n",
      "['Muhammad Asif', 'AI', 20, True]\n"
     ]
    }
   ],
   "source": [
    "# delete function not return the value.\n",
    "# Return : any value which we store in the variable.\n",
    "\n",
    "# ->                            0     1      2    3   4\n",
    "names : list[Any] = ['Muhammad Asif','AI', 'AGI', 20, True]\n",
    "# <-                       -5         -4     -3   -2   -1\n",
    "print(names)\n",
    "\n",
    "del names[2] # delete 2 index element\n",
    "\n",
    "print(names)"
   ]
  },
  {
   "cell_type": "markdown",
   "metadata": {},
   "source": [
    "# Delete : \n",
    "    * remove one or multiple values"
   ]
  },
  {
   "cell_type": "code",
   "execution_count": 23,
   "metadata": {},
   "outputs": [
    {
     "data": {
      "text/plain": [
       "['Muhammad Asif']"
      ]
     },
     "execution_count": 23,
     "metadata": {},
     "output_type": "execute_result"
    }
   ],
   "source": [
    "#                             0        1      2\n",
    "names : list[str] = ['Muhammad Asif','AI', 'AGI'] # GenAI founder members\n",
    "\n",
    "\n",
    "del names[1:3]\n",
    "\n",
    "names"
   ]
  },
  {
   "cell_type": "markdown",
   "metadata": {},
   "source": [
    "# Print"
   ]
  },
  {
   "cell_type": "code",
   "execution_count": 27,
   "metadata": {},
   "outputs": [
    {
     "name": "stdout",
     "output_type": "stream",
     "text": [
      "Who I'm I?\n",
      "None\n"
     ]
    }
   ],
   "source": [
    "# Print is also a non returnable function\n",
    "\n",
    "print(print(\"Who I'm I?\")) # none-return function"
   ]
  },
  {
   "cell_type": "code",
   "execution_count": 28,
   "metadata": {},
   "outputs": [
    {
     "name": "stdout",
     "output_type": "stream",
     "text": [
      "Asif\n"
     ]
    },
    {
     "data": {
      "text/plain": [
       "None"
      ]
     },
     "metadata": {},
     "output_type": "display_data"
    }
   ],
   "source": [
    "# Checking with the help of display\n",
    "\n",
    "a : str = print(\"Asif\") # none-return function\n",
    "display(a)"
   ]
  },
  {
   "cell_type": "markdown",
   "metadata": {},
   "source": [
    "# Display"
   ]
  },
  {
   "cell_type": "code",
   "execution_count": 21,
   "metadata": {},
   "outputs": [
    {
     "data": {
      "text/plain": [
       "2738637995072"
      ]
     },
     "metadata": {},
     "output_type": "display_data"
    }
   ],
   "source": [
    "# Display is also a non returnable function\n",
    "\n",
    "a : str = id(names) # return function\n",
    "display(a)"
   ]
  },
  {
   "cell_type": "markdown",
   "metadata": {},
   "source": [
    "# Clear"
   ]
  },
  {
   "cell_type": "code",
   "execution_count": 22,
   "metadata": {},
   "outputs": [
    {
     "name": "stdout",
     "output_type": "stream",
     "text": [
      "[]\n"
     ]
    }
   ],
   "source": [
    "# Clear : remove all element but object will remain\n",
    "\n",
    "a: list[str] = [1,2,3,4,5,6,7]\n",
    "a.clear()\n",
    "print(a)"
   ]
  },
  {
   "cell_type": "markdown",
   "metadata": {},
   "source": [
    "# Deep copy vs Shallow copy"
   ]
  },
  {
   "cell_type": "code",
   "execution_count": 29,
   "metadata": {},
   "outputs": [
    {
     "name": "stdout",
     "output_type": "stream",
     "text": [
      "['a', 'b', 'c', 'd']\n",
      "['a', 'b', 'c', 'd']\n"
     ]
    }
   ],
   "source": [
    "a : list[str] = ['a','b','c','d']\n",
    "b = a\n",
    "\n",
    "print(a)\n",
    "print(b)"
   ]
  },
  {
   "cell_type": "code",
   "execution_count": 30,
   "metadata": {},
   "outputs": [
    {
     "name": "stdout",
     "output_type": "stream",
     "text": [
      "['a', 'b', 'c', 'd']\n",
      "['a', 'b', 'c', 'd']\n",
      "['AI', 'b', 'c', 'd']\n",
      "['AI', 'b', 'c', 'd']\n"
     ]
    }
   ],
   "source": [
    "a : list[str] = ['a','b','c','d']\n",
    "b = a # shallow copy\n",
    "print(a)\n",
    "print(b)\n",
    "\n",
    "b[0] = 'AI' # change only b variable but both variable updated\n",
    "\n",
    "print(a)\n",
    "print(b)"
   ]
  },
  {
   "cell_type": "code",
   "execution_count": 31,
   "metadata": {},
   "outputs": [
    {
     "name": "stdout",
     "output_type": "stream",
     "text": [
      "a ['a', 'b', 'c', 'd']\n",
      "b ['a', 'b', 'c', 'd']\n",
      "a ['a', 'b', 'c', 'd']\n",
      "b ['AGI', 'b', 'c', 'd']\n"
     ]
    }
   ],
   "source": [
    "a : list[str] = ['a','b','c','d']\n",
    "b = a.copy() # Deep copy\n",
    "print('a',a)\n",
    "print('b',b)\n",
    "\n",
    "b[0] = 'AGI' # change only b \n",
    "\n",
    "print('a',a)\n",
    "print('b',b)"
   ]
  },
  {
   "cell_type": "markdown",
   "metadata": {},
   "source": [
    "# Count :\n",
    "    *  count the element in the list"
   ]
  },
  {
   "cell_type": "code",
   "execution_count": 32,
   "metadata": {},
   "outputs": [
    {
     "name": "stdout",
     "output_type": "stream",
     "text": [
      "3\n",
      "2\n"
     ]
    }
   ],
   "source": [
    "# count\n",
    "names : list[str] = ['a','b','b','b','c','c','d','d']\n",
    "print(names.count('b'))\n",
    "print(names.count('d'))"
   ]
  },
  {
   "cell_type": "markdown",
   "metadata": {},
   "source": [
    "# Extend :\n",
    "    * add one or multiple values"
   ]
  },
  {
   "cell_type": "code",
   "execution_count": 33,
   "metadata": {},
   "outputs": [
    {
     "data": {
      "text/plain": [
       "['Asif', 'Umer', 'Ali', ['Arif', 'Shehzad']]"
      ]
     },
     "execution_count": 33,
     "metadata": {},
     "output_type": "execute_result"
    }
   ],
   "source": [
    "# append add datatype as it is in the last\n",
    "# append add as a list but we wanna add individually as a single index\n",
    "# we get rid from this by extend, add list elements as a individual element.\n",
    "\n",
    "names : list[str] = [\"Asif\",\"Umer\", \"Ali\"] #  members\n",
    "\n",
    "new_faculty_members : list[str] = ['Arif',\"Shehzad\"]\n",
    "\n",
    "names.append(new_faculty_members)\n",
    "\n",
    "names"
   ]
  },
  {
   "cell_type": "code",
   "execution_count": 34,
   "metadata": {},
   "outputs": [
    {
     "data": {
      "text/plain": [
       "['Asif', 'Umer', 'Ali', 'Arit', 'Shehzad']"
      ]
     },
     "execution_count": 34,
     "metadata": {},
     "output_type": "execute_result"
    }
   ],
   "source": [
    "# Extend \n",
    "\n",
    "names : list[str] = [\"Asif\",\"Umer\", \"Ali\"]  # GenAI founder members\n",
    "\n",
    "new_faculty_members : list[str] = ['Arit',\"Shehzad\"]\n",
    "\n",
    "names.extend(new_faculty_members)\n",
    "\n",
    "names"
   ]
  },
  {
   "cell_type": "markdown",
   "metadata": {},
   "source": [
    "# Index : \n",
    "    * Through this we check the index of any text value."
   ]
  },
  {
   "cell_type": "code",
   "execution_count": 39,
   "metadata": {},
   "outputs": [
    {
     "data": {
      "text/plain": [
       "0"
      ]
     },
     "execution_count": 39,
     "metadata": {},
     "output_type": "execute_result"
    }
   ],
   "source": [
    "names :list[str] = [\"Asif\",\"Umer\", \"Ali\"]\n",
    "\n",
    "names.index(\"Asif\") # 1"
   ]
  },
  {
   "cell_type": "code",
   "execution_count": 41,
   "metadata": {},
   "outputs": [
    {
     "data": {
      "text/plain": [
       "0"
      ]
     },
     "execution_count": 41,
     "metadata": {},
     "output_type": "execute_result"
    }
   ],
   "source": [
    "# Index: Give the first prefer to first index if many same values are present in different index\n",
    "\n",
    "names :list[str] = [\"Asif\",\"Umer\", \"Ali\",\"Asif\"]\n",
    "\n",
    "names.index(\"Asif\") # 1"
   ]
  },
  {
   "cell_type": "code",
   "execution_count": 35,
   "metadata": {},
   "outputs": [
    {
     "data": {
      "text/plain": [
       "3"
      ]
     },
     "execution_count": 35,
     "metadata": {},
     "output_type": "execute_result"
    }
   ],
   "source": [
    "names :list[str] = [\"Asif\",\"Umer\", \"Ali\",\"Asif\"]\n",
    "\n",
    "names.index(\"Asif\",2) # by writting (,2) it not give the first index value"
   ]
  },
  {
   "cell_type": "markdown",
   "metadata": {},
   "source": [
    "# Insert\n",
    "    * Add elemnet on perticular postion."
   ]
  },
  {
   "cell_type": "code",
   "execution_count": 43,
   "metadata": {},
   "outputs": [
    {
     "name": "stdout",
     "output_type": "stream",
     "text": [
      "['a', 'b']\n",
      "['a', 'Asif', 'b']\n"
     ]
    }
   ],
   "source": [
    "names : list[str] = ['a','b']\n",
    "\n",
    "print(names)\n",
    "\n",
    "names.insert(1, \"Asif\") \n",
    "\n",
    "print(names)"
   ]
  },
  {
   "cell_type": "markdown",
   "metadata": {},
   "source": [
    "# pop :\n",
    "    * Remove value from the last index."
   ]
  },
  {
   "cell_type": "code",
   "execution_count": 24,
   "metadata": {},
   "outputs": [
    {
     "name": "stdout",
     "output_type": "stream",
     "text": [
      "['Asif', 'Umer', 'Ali', 20, True]\n",
      "True\n",
      "['Asif', 'Umer', 'Ali', 20]\n"
     ]
    }
   ],
   "source": [
    "# from method action is produce, it remove the value and return the value then it save it in any variable.\n",
    "\n",
    "# ->                    0        1         2    3\n",
    "names : list[Any] = [\"Asif\",\"Umer\", \"Ali\", 20, True]\n",
    "# <-\n",
    "print(names)\n",
    "a : str = names.pop() # pop return method\n",
    "\n",
    "print(a)\n",
    "print(names)"
   ]
  },
  {
   "cell_type": "code",
   "execution_count": 25,
   "metadata": {},
   "outputs": [
    {
     "name": "stdout",
     "output_type": "stream",
     "text": [
      "['Asif', 'Umer', 'Ali', 20, True]\n",
      "Asif\n",
      "['Umer', 'Ali', 20, True]\n"
     ]
    }
   ],
   "source": [
    "# In pop we also remove particular index.\n",
    "\n",
    "# ->                    0        1         2\n",
    "names : list[Any] = [\"Asif\",\"Umer\", \"Ali\", 20, True]\n",
    "# <-\n",
    "print(names)\n",
    "a : str = names.pop(0) # pop return method\n",
    "\n",
    "print(a)\n",
    "print(names)"
   ]
  },
  {
   "cell_type": "markdown",
   "metadata": {},
   "source": [
    "# Remove : \n",
    "    * It Remove the elements"
   ]
  },
  {
   "cell_type": "code",
   "execution_count": 36,
   "metadata": {},
   "outputs": [
    {
     "data": {
      "text/plain": [
       "['Umer', 'Ali', 2]"
      ]
     },
     "execution_count": 36,
     "metadata": {},
     "output_type": "execute_result"
    }
   ],
   "source": [
    "names :list[str] = [\"Asif\",\"Umer\", \"Ali\", 1,2]\n",
    "\n",
    "names.remove(\"Asif\") # remove value\n",
    "names.remove(1)\n",
    "names"
   ]
  },
  {
   "cell_type": "markdown",
   "metadata": {},
   "source": [
    "# reverse :\n",
    "    * Reverse the sequence \n",
    "* It convert the sequence of left to right into right to left\n",
    "* It also convert the sequence of right to left into light to reft"
   ]
  },
  {
   "cell_type": "code",
   "execution_count": 44,
   "metadata": {},
   "outputs": [
    {
     "name": "stdout",
     "output_type": "stream",
     "text": [
      "['A', 'C', 'B', 'D', 'E', 'F', 'g', 'h', 'i', 'j', 'k', 'l', 'm']\n",
      "['m', 'l', 'k', 'j', 'i', 'h', 'g', 'F', 'E', 'D', 'B', 'C', 'A']\n"
     ]
    }
   ],
   "source": [
    "#in-memory : Data update in physical memory\n",
    "\n",
    "names :list[str] = list(\"ACBDEFghijklm\")\n",
    "print(names)\n",
    "names.reverse() #in-memory = change real data\n",
    "print(names)"
   ]
  },
  {
   "cell_type": "markdown",
   "metadata": {},
   "source": [
    "# Sort : \n",
    "    * Do the sorting in asending order"
   ]
  },
  {
   "cell_type": "code",
   "execution_count": 46,
   "metadata": {},
   "outputs": [
    {
     "name": "stdout",
     "output_type": "stream",
     "text": [
      "['A', 'g', 'h', 'i', 'j', 'k', 'l', 'm', 'C', 'B', 'D', 'E', 'F']\n",
      "['A', 'B', 'C', 'D', 'E', 'F', 'g', 'h', 'i', 'j', 'k', 'l', 'm']\n"
     ]
    }
   ],
   "source": [
    "# By default sort is in asending order\n",
    "\n",
    "names :list[str] = list(\"AghijklmCBDEF\")\n",
    "print(names)\n",
    "names.sort() #in-memory = change real data sort \n",
    "print(names)"
   ]
  },
  {
   "cell_type": "code",
   "execution_count": 48,
   "metadata": {},
   "outputs": [
    {
     "name": "stdout",
     "output_type": "stream",
     "text": [
      "['A', 'C', 'B', 'D', 'E', 'F']\n",
      "['F', 'E', 'D', 'C', 'B', 'A']\n"
     ]
    }
   ],
   "source": [
    "# converting sort in the desecending order \n",
    "\n",
    "names :list[str] = list(\"ACBDEF\")\n",
    "print(names)\n",
    "names.sort(reverse=True) #in-memory = change real data sort\n",
    "print(names)"
   ]
  },
  {
   "cell_type": "markdown",
   "metadata": {},
   "source": [
    "# Now starting Slicing\n",
    "\n",
    "* all data (image, audio, video) in AI ML DL are convert in number and their manipulation (ہیرا پھیری) is done by slicing.\n",
    " * So, slicing is powerful feature of numpy or python."
   ]
  },
  {
   "cell_type": "code",
   "execution_count": 37,
   "metadata": {},
   "outputs": [
    {
     "data": {
      "text/plain": [
       "'abcdef'"
      ]
     },
     "execution_count": 37,
     "metadata": {},
     "output_type": "execute_result"
    }
   ],
   "source": [
    "# We have iterative(012345) datatypes, e.g : list,tuple,dictionary\n",
    "# 'abcdef : This is a normal text\n",
    "\n",
    "'abcdef'"
   ]
  },
  {
   "cell_type": "code",
   "execution_count": 8,
   "metadata": {},
   "outputs": [
    {
     "data": {
      "text/plain": [
       "['a', 'b', 'c', 'd', 'e', 'f']"
      ]
     },
     "execution_count": 8,
     "metadata": {},
     "output_type": "execute_result"
    }
   ],
   "source": [
    "# List is a function.\n",
    "# When I apply a function \"list\", then iteration will perform\n",
    "\n",
    "list('abcdef')"
   ]
  },
  {
   "cell_type": "code",
   "execution_count": 9,
   "metadata": {},
   "outputs": [
    {
     "name": "stdout",
     "output_type": "stream",
     "text": [
      "['A', 'B', 'C', 'D', 'E', 'F', 'G', 'H', 'I', 'J', 'K', 'L', 'M', 'N', 'O', 'P', 'Q', 'R', 'S', 'T', 'U', 'V', 'W', 'X', 'Y', 'Z']\n"
     ]
    }
   ],
   "source": [
    "# We also do this on A to Z alphabets, when I write it in string and apply on it list function,  they also will iterate.\n",
    "\n",
    "characters : list[str] = list(\"ABCDEFGHIJKLMNOPQRSTUVWXYZ\")\n",
    "print(characters)"
   ]
  },
  {
   "cell_type": "code",
   "execution_count": 10,
   "metadata": {},
   "outputs": [
    {
     "name": "stdout",
     "output_type": "stream",
     "text": [
      "['Ahmed', 'Ali', 'Hassan']\n",
      "['Ahmed', 'Ali', 'Hassan']\n",
      "['Khalid', 'Omar', 'Hassan', 'Ali']\n",
      "[]\n",
      "['Ahmed', 'Hassan']\n",
      "['Ahmed', 'Ali', 'Hassan']\n"
     ]
    }
   ],
   "source": [
    "# When we extract two or more then two items we used slicing.\n",
    "# Data come from slicing is in the form of list type.\n",
    "# slicing means : some parts cut from the data\n",
    "# : means colun\n",
    "#                            0       1     2        3       4                                                                                     \n",
    "characters : list[str] = ['Ahmed','Ali','Hassan','Omar','Khalid']\n",
    "#                             -5    -4    -3        -2     -1\n",
    "# defualt slicing go from left to right\n",
    "print(characters[0:3]) # 0= include : index 3-1 = 2  (last index not included)\n",
    "print(characters[:3]) # On the starting point not pass any number = Means it include all from starting point\n",
    "print(characters[-1:-5 :-1])# 0= include : index -1-3 = -4\n",
    "print(characters[-1:-5 ])# 0= include : index -1-3 = -4\n",
    "print(characters[0:3:2]) # 0= include : index 2-1 = 1\n",
    "print(characters[0:3:]) # 0= include : index 2-1 = 1"
   ]
  },
  {
   "cell_type": "code",
   "execution_count": 11,
   "metadata": {},
   "outputs": [
    {
     "name": "stdout",
     "output_type": "stream",
     "text": [
      "['F', 'E', 'D']\n"
     ]
    }
   ],
   "source": [
    "# -1 means steps are in reverse form.\n",
    "# plus 1 means from left to right\n",
    "\n",
    "#                    0    1    2    3    4   5           \n",
    "char : list[str] = ['A', 'B', 'C', 'D', 'E', 'F']\n",
    "#                    -6  -5    -4   -3   -2   -1\n",
    "\n",
    "# iteration slicing ->\n",
    "# step -> positive\n",
    "# step <- negative\n",
    "print(char[-1:-4:-1]) "
   ]
  }
 ],
 "metadata": {
  "kernelspec": {
   "display_name": "Python 3",
   "language": "python",
   "name": "python3"
  },
  "language_info": {
   "codemirror_mode": {
    "name": "ipython",
    "version": 3
   },
   "file_extension": ".py",
   "mimetype": "text/x-python",
   "name": "python",
   "nbconvert_exporter": "python",
   "pygments_lexer": "ipython3",
   "version": "3.12.0"
  }
 },
 "nbformat": 4,
 "nbformat_minor": 2
}
