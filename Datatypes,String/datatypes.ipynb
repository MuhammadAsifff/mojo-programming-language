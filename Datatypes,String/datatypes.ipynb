{
 "cells": [
  {
   "cell_type": "markdown",
   "metadata": {},
   "source": [
    "# Datatypes in Pythons\n",
    "\n",
    "    * Integer\n",
    "    * boolean\n",
    "    * float\n",
    "    * complex\n",
    "    * range\n",
    "    * set\n",
    "    * String\n",
    "    * list\n",
    "    * tuple\n",
    "    * dict"
   ]
  },
  {
   "cell_type": "code",
   "execution_count": 10,
   "metadata": {},
   "outputs": [],
   "source": [
    "from typing import (\n",
    "    List,\n",
    "    Tuple,\n",
    "    Dict,\n",
    "    Set,\n",
    ")"
   ]
  },
  {
   "cell_type": "code",
   "execution_count": 11,
   "metadata": {},
   "outputs": [
    {
     "name": "stdout",
     "output_type": "stream",
     "text": [
      "25\n",
      "<class 'int'>\n"
     ]
    }
   ],
   "source": [
    "# Integer\n",
    "\n",
    "age: int = 25\n",
    "\n",
    "#display age\n",
    "print(age)\n",
    "\n",
    "#display the data type of age:\n",
    "print(type(age)) "
   ]
  },
  {
   "cell_type": "code",
   "execution_count": 24,
   "metadata": {},
   "outputs": [
    {
     "name": "stdout",
     "output_type": "stream",
     "text": [
      "True\n",
      "<class 'bool'>\n"
     ]
    }
   ],
   "source": [
    "# Boolean\n",
    "\n",
    "is_valid: bool = True\n",
    "\n",
    "#display is_valid:\n",
    "print(is_valid)\n",
    "\n",
    "#display the data type of is_valid:\n",
    "print(type(is_valid))"
   ]
  },
  {
   "cell_type": "code",
   "execution_count": 25,
   "metadata": {},
   "outputs": [
    {
     "name": "stdout",
     "output_type": "stream",
     "text": [
      "3.14159\n",
      "<class 'float'>\n"
     ]
    }
   ],
   "source": [
    "# Float\n",
    "\n",
    "pi: float = 3.14159\n",
    "\n",
    "#display pi:\n",
    "print(pi)\n",
    "\n",
    "#display the data type of pi:\n",
    "print(type(pi))"
   ]
  },
  {
   "cell_type": "code",
   "execution_count": 12,
   "metadata": {},
   "outputs": [
    {
     "name": "stdout",
     "output_type": "stream",
     "text": [
      "(2+3j)\n",
      "<class 'complex'>\n"
     ]
    }
   ],
   "source": [
    "# Complex (like mathematic equation)\n",
    "\n",
    "complex_number: complex = 2 + 3j\n",
    "\n",
    "#display complex_number:\n",
    "print(complex_number)\n",
    "\n",
    "#display the data type of complex_number:\n",
    "print(type(complex_number))"
   ]
  },
  {
   "cell_type": "code",
   "execution_count": 27,
   "metadata": {},
   "outputs": [
    {
     "name": "stdout",
     "output_type": "stream",
     "text": [
      "range(1, 6)\n",
      "<class 'range'>\n"
     ]
    }
   ],
   "source": [
    "# Range\n",
    "\n",
    "number_range: range = range(1, 6)\n",
    "\n",
    "#display number_range:\n",
    "print(number_range)\n",
    "\n",
    "#display the data type of number_range:\n",
    "print(type(number_range))"
   ]
  },
  {
   "cell_type": "code",
   "execution_count": 28,
   "metadata": {},
   "outputs": [
    {
     "name": "stdout",
     "output_type": "stream",
     "text": [
      "{1, 2, 3, 4, 5, 6, 7}\n",
      "<class 'set'>\n"
     ]
    }
   ],
   "source": [
    "# Set\n",
    "# it give unique_numbers\n",
    "\n",
    "unique_numbers: Set[int] = {1,1, 2,2, 3,3, 4,4, 5,5,6,6,7,7}\n",
    "\n",
    "#display unique_numbers:\n",
    "print(unique_numbers)\n",
    "\n",
    "#display the data type of unique_numbers:\n",
    "print(type(unique_numbers))"
   ]
  },
  {
   "cell_type": "code",
   "execution_count": 13,
   "metadata": {},
   "outputs": [
    {
     "name": "stdout",
     "output_type": "stream",
     "text": [
      "Muhammad Asif\n",
      "<class 'str'>\n"
     ]
    }
   ],
   "source": [
    "# String\n",
    "\n",
    "name: str = 'Muhammad Asif'\n",
    "\n",
    "#display name:\n",
    "print(name)\n",
    "\n",
    "#display the data type of name:\n",
    "print(type(name))"
   ]
  },
  {
   "cell_type": "code",
   "execution_count": 30,
   "metadata": {},
   "outputs": [
    {
     "name": "stdout",
     "output_type": "stream",
     "text": [
      "[1, 2, 3, 4, 5]\n",
      "<class 'list'>\n"
     ]
    }
   ],
   "source": [
    "# List\n",
    "\n",
    "numbers: List[int] = [1, 2, 3, 4, 5]\n",
    "\n",
    "#display numbers:\n",
    "print(numbers)\n",
    "\n",
    "#display the data type of numbers:\n",
    "print(type(numbers))"
   ]
  },
  {
   "cell_type": "code",
   "execution_count": 14,
   "metadata": {},
   "outputs": [
    {
     "name": "stdout",
     "output_type": "stream",
     "text": [
      "(3.0, 4.0)\n",
      "<class 'tuple'>\n"
     ]
    }
   ],
   "source": [
    "# Tuple (passing data type mention in bracket)\n",
    "\n",
    "point: Tuple[float, float] = (3.0, 4.0)\n",
    "\n",
    "#display point:\n",
    "print(point)\n",
    "\n",
    "#display the data type of point:\n",
    "print(type(point))"
   ]
  },
  {
   "cell_type": "code",
   "execution_count": 15,
   "metadata": {},
   "outputs": [
    {
     "name": "stdout",
     "output_type": "stream",
     "text": [
      "{'Asif': 95, 'Shehzad': 87, 'Aamir': 92}\n",
      "<class 'dict'>\n"
     ]
    }
   ],
   "source": [
    "# Dictionary\n",
    "\n",
    "student_scores: Dict[str, int] = {\"Asif\": 95, \"Shehzad\": 87, \"Aamir\": 92}\n",
    "\n",
    "# Display student_scores:\n",
    "print(student_scores)\n",
    "\n",
    "# Display the data type of student_scores:\n",
    "print(type(student_scores))"
   ]
  },
  {
   "cell_type": "code",
   "execution_count": null,
   "metadata": {},
   "outputs": [],
   "source": []
  }
 ],
 "metadata": {
  "kernelspec": {
   "display_name": "Python 3",
   "language": "python",
   "name": "python3"
  },
  "language_info": {
   "codemirror_mode": {
    "name": "ipython",
    "version": 3
   },
   "file_extension": ".py",
   "mimetype": "text/x-python",
   "name": "python",
   "nbconvert_exporter": "python",
   "pygments_lexer": "ipython3",
   "version": "3.12.0"
  }
 },
 "nbformat": 4,
 "nbformat_minor": 2
}
