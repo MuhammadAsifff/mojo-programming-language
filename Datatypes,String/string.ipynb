{
 "cells": [
  {
   "cell_type": "markdown",
   "metadata": {},
   "source": [
    "# String Data type in python"
   ]
  },
  {
   "cell_type": "markdown",
   "metadata": {},
   "source": [
    "The most important datatype in Programing languages is that is called String : sequence of caharcters\n",
    "or collection of characters. \n",
    "-Now in the world of NLP and LLM all work is done in the form of text we give prompt input and get output and text is String.\n",
    "\n",
    "-In How many ways STRING is define:\n",
    "1. We assign it in variable.\n",
    "2. direct put in string\n",
    "\n",
    "- You define string in particular boundary\n",
    "\n",
    "* In single quotation (' ')\n",
    "* In double quotation (\" \")\n",
    "* In Triple quotation (''' ''')\n",
    "* In Triple quotation (\"\"\" \"\"\")"
   ]
  },
  {
   "cell_type": "code",
   "execution_count": 1,
   "metadata": {},
   "outputs": [
    {
     "name": "stdout",
     "output_type": "stream",
     "text": [
      "<class 'str'>\n",
      "Muhammad Asif\n"
     ]
    }
   ],
   "source": [
    "name : str = 'Muhammad Asif'\n",
    "print(type(name))\n",
    "print(name)"
   ]
  },
  {
   "cell_type": "code",
   "execution_count": 14,
   "metadata": {},
   "outputs": [
    {
     "data": {
      "text/plain": [
       "'abc'"
      ]
     },
     "execution_count": 14,
     "metadata": {},
     "output_type": "execute_result"
    }
   ],
   "source": [
    "# When we make + plus operator between string it concatenate them.\n",
    "\n",
    "# It concatenate the text because it's type is string\n",
    "\n",
    "\"a\" + \"b\" + \"c\"\n"
   ]
  },
  {
   "cell_type": "code",
   "execution_count": 15,
   "metadata": {},
   "outputs": [
    {
     "data": {
      "text/plain": [
       "'a7'"
      ]
     },
     "execution_count": 15,
     "metadata": {},
     "output_type": "execute_result"
    }
   ],
   "source": [
    "# It also concatenate the text and number because it's type is string\n",
    "\n",
    "\"a\" + \"7\""
   ]
  },
  {
   "cell_type": "code",
   "execution_count": 16,
   "metadata": {},
   "outputs": [
    {
     "data": {
      "text/plain": [
       "'67'"
      ]
     },
     "execution_count": 16,
     "metadata": {},
     "output_type": "execute_result"
    }
   ],
   "source": [
    "# It also concatenate the number and number because it's type is string\n",
    "\n",
    "\"6\" + \"7\""
   ]
  },
  {
   "cell_type": "markdown",
   "metadata": {},
   "source": [
    "# String methods and attribute"
   ]
  },
  {
   "cell_type": "markdown",
   "metadata": {},
   "source": [
    "* In python every thing is object.\n",
    "    * Object have methods and attribute.\n",
    "    * Methods : Which perform action e.g : walk, run, work\n",
    "    * Attributes : are eye color, height."
   ]
  },
  {
   "cell_type": "code",
   "execution_count": 49,
   "metadata": {},
   "outputs": [
    {
     "data": {
      "text/plain": [
       "['capitalize',\n",
       " 'casefold',\n",
       " 'center',\n",
       " 'count',\n",
       " 'encode',\n",
       " 'endswith',\n",
       " 'expandtabs',\n",
       " 'find',\n",
       " 'format',\n",
       " 'format_map',\n",
       " 'index',\n",
       " 'isalnum',\n",
       " 'isalpha',\n",
       " 'isascii',\n",
       " 'isdecimal',\n",
       " 'isdigit',\n",
       " 'isidentifier',\n",
       " 'islower',\n",
       " 'isnumeric',\n",
       " 'isprintable',\n",
       " 'isspace',\n",
       " 'istitle',\n",
       " 'isupper',\n",
       " 'join',\n",
       " 'ljust',\n",
       " 'lower',\n",
       " 'lstrip',\n",
       " 'maketrans',\n",
       " 'partition',\n",
       " 'removeprefix',\n",
       " 'removesuffix',\n",
       " 'replace',\n",
       " 'rfind',\n",
       " 'rindex',\n",
       " 'rjust',\n",
       " 'rpartition',\n",
       " 'rsplit',\n",
       " 'rstrip',\n",
       " 'split',\n",
       " 'splitlines',\n",
       " 'startswith',\n",
       " 'strip',\n",
       " 'swapcase',\n",
       " 'title',\n",
       " 'translate',\n",
       " 'upper',\n",
       " 'zfill']"
      ]
     },
     "execution_count": 49,
     "metadata": {},
     "output_type": "execute_result"
    }
   ],
   "source": [
    "# checking the methods and attribute of any class by \"dir\".\n",
    "# -- below is used for list comprehensive\n",
    "\n",
    "[i for i in dir(str) if \"__\" not in i]"
   ]
  },
  {
   "cell_type": "code",
   "execution_count": 64,
   "metadata": {},
   "outputs": [
    {
     "name": "stdout",
     "output_type": "stream",
     "text": [
      "MUhAMMad aSif\n",
      "Muhammad asif\n"
     ]
    }
   ],
   "source": [
    "# In below I'm not follow any case \n",
    "\n",
    "# Syntex for calling method: variable_name.method()\n",
    "\n",
    "# capitalize: is a method, that do first letter capital\n",
    "\n",
    "name : str = \"MUhAMMad aSif\"\n",
    "\n",
    "print(name)\n",
    "\n",
    "print(name.capitalize())\n"
   ]
  },
  {
   "cell_type": "code",
   "execution_count": 74,
   "metadata": {},
   "outputs": [
    {
     "name": "stdout",
     "output_type": "stream",
     "text": [
      "NA Times\n",
      "NA TIMES\n"
     ]
    }
   ],
   "source": [
    "#upper : do every letter capital \n",
    "\n",
    "name:str = \"NA Times\"\n",
    "\n",
    "print(name)\n",
    "\n",
    "print(name.upper())"
   ]
  },
  {
   "cell_type": "code",
   "execution_count": 75,
   "metadata": {},
   "outputs": [
    {
     "name": "stdout",
     "output_type": "stream",
     "text": [
      "NA Times\n",
      "na times\n"
     ]
    }
   ],
   "source": [
    "#lower : do every letter small \n",
    "\n",
    "name:str = \"NA Times\"\n",
    "\n",
    "print(name)\n",
    "\n",
    "print(name.lower())"
   ]
  },
  {
   "cell_type": "code",
   "execution_count": 76,
   "metadata": {},
   "outputs": [
    {
     "name": "stdout",
     "output_type": "stream",
     "text": [
      "MuHammAd AsIf\n",
      "muhammad asif\n"
     ]
    }
   ],
   "source": [
    "# casefold : all do in small letter. in which you said not follow any case (not upper and lower)\n",
    "# casefold : Not follow any case\n",
    "\n",
    "name : str = \"MuHammAd AsIf\"\n",
    "\n",
    "print(name)\n",
    "\n",
    "print(name.casefold())"
   ]
  },
  {
   "cell_type": "code",
   "execution_count": 63,
   "metadata": {},
   "outputs": [
    {
     "data": {
      "text/plain": [
       "'      Muhammad Asif        '"
      ]
     },
     "metadata": {},
     "output_type": "display_data"
    },
    {
     "data": {
      "text/plain": [
       "'Muhammad Asif        '"
      ]
     },
     "metadata": {},
     "output_type": "display_data"
    }
   ],
   "source": [
    "# lstrip: all left side spaces remove\n",
    "\n",
    "# display() is better then print() function\n",
    "\n",
    "name : str = \"      Muhammad Asif        \"\n",
    "\n",
    "display(name)\n",
    "\n",
    "display(name.lstrip())"
   ]
  },
  {
   "cell_type": "code",
   "execution_count": 67,
   "metadata": {},
   "outputs": [
    {
     "data": {
      "text/plain": [
       "'      Muhammad Asif         '"
      ]
     },
     "metadata": {},
     "output_type": "display_data"
    },
    {
     "data": {
      "text/plain": [
       "'      Muhammad Asif'"
      ]
     },
     "metadata": {},
     "output_type": "display_data"
    }
   ],
   "source": [
    "# rstrip: all right side spaces remove\n",
    "\n",
    "name : str = \"      Muhammad Asif         \"\n",
    "\n",
    "display(name)\n",
    "\n",
    "display(name.rstrip())"
   ]
  },
  {
   "cell_type": "code",
   "execution_count": 68,
   "metadata": {},
   "outputs": [
    {
     "data": {
      "text/plain": [
       "'      Muhammad Asif         '"
      ]
     },
     "metadata": {},
     "output_type": "display_data"
    },
    {
     "data": {
      "text/plain": [
       "'Muhammad Asif'"
      ]
     },
     "metadata": {},
     "output_type": "display_data"
    }
   ],
   "source": [
    "# strip: both side spaces remove\n",
    "\n",
    "name : str = \"      Muhammad Asif         \"\n",
    "\n",
    "display(name)\n",
    "\n",
    "display(name.strip())"
   ]
  },
  {
   "cell_type": "code",
   "execution_count": 69,
   "metadata": {},
   "outputs": [
    {
     "data": {
      "text/plain": [
       "'      Muhammad      Asif         '"
      ]
     },
     "metadata": {},
     "output_type": "display_data"
    },
    {
     "data": {
      "text/plain": [
       "'Muhammad      Asif'"
      ]
     },
     "metadata": {},
     "output_type": "display_data"
    }
   ],
   "source": [
    "name : str = \"      Muhammad      Asif         \"\n",
    "\n",
    "display(name)\n",
    "\n",
    "display(name.strip())"
   ]
  },
  {
   "cell_type": "code",
   "execution_count": 70,
   "metadata": {},
   "outputs": [
    {
     "data": {
      "text/plain": [
       "'      Muhammad       Asif         '"
      ]
     },
     "metadata": {},
     "output_type": "display_data"
    },
    {
     "data": {
      "text/plain": [
       "'Muhammad Asif'"
      ]
     },
     "metadata": {},
     "output_type": "display_data"
    }
   ],
   "source": [
    "# Middle spaces are remove by rigid\n",
    "# re : regular expression\n",
    "# rigid : re\n",
    "# we update variable by rigid. we give substitute(sub, in here we give three thing 1. pattern, 2. replacement 3.the variable whom we play it)\n",
    "\n",
    "# DISPLAY : In jupyter note specially any specially formating whatever list, dictionary, string or dataframe\n",
    "# -- he show it own format that integration with html in beautiful style.\n",
    "# PRINT : convert it in string and show.\n",
    "\n",
    "import re\n",
    "\n",
    "name : str = \"      Muhammad       Asif         \"\n",
    "\n",
    "display(name)\n",
    "\n",
    "name1 : str = re.sub(' {2,100}',' ', name).strip()\n",
    "display(name1)"
   ]
  },
  {
   "cell_type": "code",
   "execution_count": 71,
   "metadata": {},
   "outputs": [
    {
     "data": {
      "text/plain": [
       "'muhammad asif'"
      ]
     },
     "metadata": {},
     "output_type": "display_data"
    },
    {
     "data": {
      "text/plain": [
       "'Muhammad Asif'"
      ]
     },
     "metadata": {},
     "output_type": "display_data"
    }
   ],
   "source": [
    "# capital first letter of every word\n",
    "\n",
    "name : str = \"muhammad asif\"\n",
    "\n",
    "display(name)\n",
    "\n",
    "display(name.title())\n"
   ]
  },
  {
   "cell_type": "code",
   "execution_count": 82,
   "metadata": {},
   "outputs": [
    {
     "data": {
      "text/plain": [
       "'www.mrzoologist.com'"
      ]
     },
     "execution_count": 82,
     "metadata": {},
     "output_type": "execute_result"
    }
   ],
   "source": [
    "# prefix : remove from start\n",
    "# suffex : remove from last\n",
    "\n",
    "nostarch_url:str = 'https://www.mrzoologist.com'\n",
    "nostarch_url.removeprefix('https://')"
   ]
  },
  {
   "cell_type": "code",
   "execution_count": 85,
   "metadata": {},
   "outputs": [
    {
     "data": {
      "text/plain": [
       "'https://www.mrzoologist'"
      ]
     },
     "execution_count": 85,
     "metadata": {},
     "output_type": "execute_result"
    }
   ],
   "source": [
    "# suffex : remove from last\n",
    "\n",
    "nostarch_url:str = 'https://www.mrzoologist.com'\n",
    "nostarch_url.removesuffix('.com')"
   ]
  },
  {
   "cell_type": "markdown",
   "metadata": {},
   "source": [
    "# Special meaning white space"
   ]
  },
  {
   "cell_type": "markdown",
   "metadata": {},
   "source": [
    "these are special meaning white space which we use.\n",
    "\n",
    "* \\n : it change the line\n",
    "* \\t : mean tab : extra space\n",
    "* \\b : mean back space, when we press back space something is delete\n",
    "\n",
    "\n",
    "these are white space characters, you put it in string and it has special meaning"
   ]
  },
  {
   "cell_type": "code",
   "execution_count": 79,
   "metadata": {},
   "outputs": [
    {
     "name": "stdout",
     "output_type": "stream",
     "text": [
      "Name:\t Muhammad Asif\n"
     ]
    }
   ],
   "source": [
    "# t : means tab :means  extra space\n",
    "\n",
    "print(\"Name:\\t Muhammad Asif\")"
   ]
  },
  {
   "cell_type": "code",
   "execution_count": 81,
   "metadata": {},
   "outputs": [
    {
     "name": "stdout",
     "output_type": "stream",
     "text": [
      "NameMuhammad Asif\n"
     ]
    }
   ],
   "source": [
    "# \\b : mean back space, when we press back space when we delete something\n",
    "# By this space is remove.\n",
    "\n",
    "print(\"Name:\\bMuhammad Asif\")"
   ]
  },
  {
   "cell_type": "code",
   "execution_count": 77,
   "metadata": {},
   "outputs": [
    {
     "name": "stdout",
     "output_type": "stream",
     "text": [
      "Name:\n",
      "Muhammad Asif\n"
     ]
    }
   ],
   "source": [
    "# \\n : it is used for line change\n",
    "\n",
    "print(\"Name:\\nMuhammad Asif\")"
   ]
  },
  {
   "cell_type": "code",
   "execution_count": 78,
   "metadata": {},
   "outputs": [
    {
     "ename": "SyntaxError",
     "evalue": "unterminated string literal (detected at line 1) (718093774.py, line 1)",
     "output_type": "error",
     "traceback": [
      "\u001b[1;36m  Cell \u001b[1;32mIn[78], line 1\u001b[1;36m\u001b[0m\n\u001b[1;33m    message : str = 'Student ID Card \\n father's Name'\u001b[0m\n\u001b[1;37m                                                     ^\u001b[0m\n\u001b[1;31mSyntaxError\u001b[0m\u001b[1;31m:\u001b[0m unterminated string literal (detected at line 1)\n"
     ]
    }
   ],
   "source": [
    "\n",
    "message : str = 'Student ID Card \\n father's Name'\n",
    "print(message)"
   ]
  },
  {
   "cell_type": "code",
   "execution_count": 3,
   "metadata": {},
   "outputs": [
    {
     "name": "stdout",
     "output_type": "stream",
     "text": [
      "Student ID Card \n",
      "father's Name\n"
     ]
    }
   ],
   "source": [
    "# If you used  double quotation outside then used single quotation inside\n",
    "\n",
    "message : str = \"Student ID Card \\nfather's Name\"\n",
    "print(message)"
   ]
  },
  {
   "cell_type": "code",
   "execution_count": 4,
   "metadata": {},
   "outputs": [
    {
     "name": "stdout",
     "output_type": "stream",
     "text": [
      "Student \"ID Card\" \n",
      "father Name\n"
     ]
    }
   ],
   "source": [
    "# Similarly If you used single quotation outside then used double quotation inside \n",
    "\n",
    "\n",
    "message : str = 'Student \"ID Card\" \\nfather Name'\n",
    "print(message)"
   ]
  },
  {
   "cell_type": "code",
   "execution_count": 5,
   "metadata": {},
   "outputs": [
    {
     "name": "stdout",
     "output_type": "stream",
     "text": [
      "Student Card \n",
      "father's Name\n"
     ]
    }
   ],
   "source": [
    "# convert any special meaning character into simple character, place back slash (\\) before character\n",
    "\n",
    "message : str = 'Student Card \\nfather\\'s Name'\n",
    "print(message)"
   ]
  },
  {
   "cell_type": "code",
   "execution_count": 27,
   "metadata": {},
   "outputs": [
    {
     "ename": "TypeError",
     "evalue": "can only concatenate str (not \"int\") to str",
     "output_type": "error",
     "traceback": [
      "\u001b[1;31m---------------------------------------------------------------------------\u001b[0m",
      "\u001b[1;31mTypeError\u001b[0m                                 Traceback (most recent call last)",
      "\u001b[1;32mc:\\Users\\Hp\\Desktop\\MOJO 1 SHOT\\Datatypes,String\\String.ipynb Cell 11\u001b[0m line \u001b[0;36m1\n\u001b[0;32m      <a href='vscode-notebook-cell:/c%3A/Users/Hp/Desktop/MOJO%201%20SHOT/Datatypes%2CString/String.ipynb#X13sZmlsZQ%3D%3D?line=6'>7</a>\u001b[0m education : \u001b[39mstr\u001b[39m \u001b[39m=\u001b[39m \u001b[39m\"\u001b[39m\u001b[39mMaster in Data Science\u001b[39m\u001b[39m\"\u001b[39m\n\u001b[0;32m      <a href='vscode-notebook-cell:/c%3A/Users/Hp/Desktop/MOJO%201%20SHOT/Datatypes%2CString/String.ipynb#X13sZmlsZQ%3D%3D?line=7'>8</a>\u001b[0m age : \u001b[39mint\u001b[39m \u001b[39m=\u001b[39m \u001b[39m25\u001b[39m\n\u001b[1;32m---> <a href='vscode-notebook-cell:/c%3A/Users/Hp/Desktop/MOJO%201%20SHOT/Datatypes%2CString/String.ipynb#X13sZmlsZQ%3D%3D?line=9'>10</a>\u001b[0m card : \u001b[39mstr\u001b[39m \u001b[39m=\u001b[39m \u001b[39m\"\u001b[39;49m\u001b[39mStudent Card\u001b[39;49m\u001b[39m\\n\u001b[39;49;00m\u001b[39mStudent Name: \u001b[39;49m\u001b[39m\"\u001b[39;49m \u001b[39m+\u001b[39;49m name \u001b[39m+\u001b[39;49m \u001b[39m\"\u001b[39;49m\u001b[39m\\n\u001b[39;49;00m\u001b[39mStudent Father Name\u001b[39;49m\u001b[39m\"\u001b[39;49m \u001b[39m+\u001b[39;49m fname \u001b[39m+\u001b[39;49m \u001b[39m\"\u001b[39;49m\u001b[39m\\n\u001b[39;49;00m\u001b[39mAge:\u001b[39;49m\u001b[39m\"\u001b[39;49m \u001b[39m+\u001b[39;49m age \u001b[39m+\u001b[39m \u001b[39m\"\u001b[39m\u001b[39m\\n\u001b[39;00m\u001b[39mEducation: \u001b[39m\u001b[39m\"\u001b[39m \u001b[39m+\u001b[39m education \n\u001b[0;32m     <a href='vscode-notebook-cell:/c%3A/Users/Hp/Desktop/MOJO%201%20SHOT/Datatypes%2CString/String.ipynb#X13sZmlsZQ%3D%3D?line=11'>12</a>\u001b[0m \u001b[39mprint\u001b[39m(card)\n",
      "\u001b[1;31mTypeError\u001b[0m: can only concatenate str (not \"int\") to str"
     ]
    }
   ],
   "source": [
    "# Example of Student Card \n",
    "\n",
    "# We cannot concatenate the str and int data type.\n",
    "\n",
    "name : str = 'Muhammad Asif'\n",
    "fname : str = \"A D\"\n",
    "education : str = \"Master in Data Science\"\n",
    "age : int = 25\n",
    "\n",
    "card : str = \"Student Card\\nStudent Name: \" + name + \"\\nStudent Father Name\" + fname + \"\\nAge:\" + age + \"\\nEducation: \" + education \n",
    "\n",
    "print(card)\n",
    "\n"
   ]
  },
  {
   "cell_type": "code",
   "execution_count": 19,
   "metadata": {},
   "outputs": [
    {
     "data": {
      "text/plain": [
       "'a7'"
      ]
     },
     "execution_count": 19,
     "metadata": {},
     "output_type": "execute_result"
    }
   ],
   "source": [
    "# for converting in to string by quotation and by str function.\n",
    "\n",
    "# str : This function convert any number, string, touple, dictionary in to string\n",
    "\n",
    "# -- We also convert in to number, list, float\n",
    "\n",
    "\"a\" + str(7)"
   ]
  },
  {
   "cell_type": "code",
   "execution_count": 21,
   "metadata": {},
   "outputs": [
    {
     "data": {
      "text/plain": [
       "7"
      ]
     },
     "execution_count": 21,
     "metadata": {},
     "output_type": "execute_result"
    }
   ],
   "source": [
    "# Converting str in to int\n",
    "\n",
    "1 + int('6')"
   ]
  },
  {
   "cell_type": "code",
   "execution_count": 31,
   "metadata": {},
   "outputs": [
    {
     "name": "stdout",
     "output_type": "stream",
     "text": [
      "Student Card\n",
      "Student Name: Muhammad Asif\n",
      "Student Father Name: A D\n",
      "Age: 25\n",
      "Education: Master in Data Science\n"
     ]
    }
   ],
   "source": [
    "# Example of Student Card \n",
    "\n",
    "# We cannot concatenate the str and int data type.\n",
    "\n",
    "name : str = 'Muhammad Asif'\n",
    "fname : str = \"A D\"\n",
    "education : str = \"Master in Data Science\"\n",
    "age : int = 25\n",
    "\n",
    "card : str = \"Student Card\\nStudent Name: \" + name + \"\\nStudent Father Name: \" + fname + \"\\nAge: \" + str(age) + \"\\nEducation: \" + education\n",
    "\n",
    "print(card)"
   ]
  },
  {
   "cell_type": "markdown",
   "metadata": {},
   "source": [
    " # \"\\\\\" line continue"
   ]
  },
  {
   "cell_type": "code",
   "execution_count": 24,
   "metadata": {},
   "outputs": [
    {
     "name": "stdout",
     "output_type": "stream",
     "text": [
      "17\n"
     ]
    }
   ],
   "source": [
    "print(7 + \\\n",
    "      8 + \\\n",
    "        2)"
   ]
  },
  {
   "cell_type": "code",
   "execution_count": 25,
   "metadata": {},
   "outputs": [
    {
     "name": "stdout",
     "output_type": "stream",
     "text": [
      "abc\n"
     ]
    }
   ],
   "source": [
    "print('a' + \\\n",
    "      'b' + \\\n",
    "        'c')"
   ]
  },
  {
   "cell_type": "code",
   "execution_count": 33,
   "metadata": {},
   "outputs": [
    {
     "ename": "SyntaxError",
     "evalue": "invalid syntax (2897270565.py, line 12)",
     "output_type": "error",
     "traceback": [
      "\u001b[1;36m  Cell \u001b[1;32mIn[33], line 12\u001b[1;36m\u001b[0m\n\u001b[1;33m    card : str = \"Student Card\\nStudent Name: \" + name +\u001b[0m\n\u001b[1;37m                                                        ^\u001b[0m\n\u001b[1;31mSyntaxError\u001b[0m\u001b[1;31m:\u001b[0m invalid syntax\n"
     ]
    }
   ],
   "source": [
    "# Example of Student Card \n",
    "\n",
    "# We cannot concatenate the str and int data type.\n",
    "\n",
    "# If we write it to another line it give Syntex Error\n",
    "\n",
    "name : str = 'Muhammad Asif'\n",
    "fname : str = \"A D\"\n",
    "education : str = \"Master in Data Science\"\n",
    "age : int = 25\n",
    "\n",
    "card : str = \"Student Card\\nStudent Name: \" + name +\n",
    "\"\\nStudent Father Name: \" + fname +\n",
    "\"\\nAge: \" + str(age) +\n",
    "\"\\nEducation: \" + education\n",
    "\n",
    "print(card)"
   ]
  },
  {
   "cell_type": "code",
   "execution_count": 35,
   "metadata": {},
   "outputs": [
    {
     "name": "stdout",
     "output_type": "stream",
     "text": [
      "Student Card\n",
      "Student Name: Muhammad Asif\n",
      "Student Father Name: A D\n",
      "Age: 25\n",
      "Education: Master in Data Science\n"
     ]
    }
   ],
   "source": [
    "# So we used back slash (\\) means this line is continue.\n",
    "\n",
    "name : str = 'Muhammad Asif'\n",
    "fname : str = \"A D\"\n",
    "education : str = \"Master in Data Science\"\n",
    "age : int = 25\n",
    "\n",
    "card : str = \"Student Card\\nStudent Name: \" + name +\\\n",
    "\"\\nStudent Father Name: \" + fname +\\\n",
    "\"\\nAge: \" + str(age) +\\\n",
    "\"\\nEducation: \" + education\n",
    "\n",
    "print(card)"
   ]
  },
  {
   "cell_type": "markdown",
   "metadata": {},
   "source": [
    "# Define multiline string \"\"\" \"\"\", ''' '''"
   ]
  },
  {
   "cell_type": "code",
   "execution_count": 36,
   "metadata": {},
   "outputs": [
    {
     "name": "stdout",
     "output_type": "stream",
     "text": [
      "\n",
      "Student Card\n",
      "Student Name : \n",
      "Father's Name: \n",
      "Age: ......\n",
      "Education : .....\n",
      "\n"
     ]
    }
   ],
   "source": [
    "# 1. Write things in multi lines\n",
    "# 2. Also change datatype\n",
    "# 3. In triple quotation no need of \\n for line changing\n",
    "\n",
    "name : str = 'Muhammad Asif'\n",
    "fname : str = \"A D\"\n",
    "education : str = \"Master in Data Science\"\n",
    "age : int = 25\n",
    "\n",
    "\n",
    "card : str = \"\"\"\n",
    "Student Card\n",
    "Student Name : \n",
    "Father's Name: \n",
    "Age: ......\n",
    "Education : .....\n",
    "\"\"\"\n",
    "\n",
    "print(card)"
   ]
  },
  {
   "cell_type": "markdown",
   "metadata": {},
   "source": [
    "# Two types of style:\n",
    "# F-string and Jinja style"
   ]
  },
  {
   "cell_type": "markdown",
   "metadata": {},
   "source": [
    "# Jinja style"
   ]
  },
  {
   "cell_type": "code",
   "execution_count": 48,
   "metadata": {},
   "outputs": [
    {
     "data": {
      "text/plain": [
       "'\\nstudent name {{name}}\\n'"
      ]
     },
     "execution_count": 48,
     "metadata": {},
     "output_type": "execute_result"
    }
   ],
   "source": [
    "# when you combine any variable with HTML page.\n",
    "# in which double cirli bracket open close\n",
    "# Jinja Style \n",
    "\"\"\"\n",
    "student name {{name}}\n",
    "\"\"\""
   ]
  },
  {
   "cell_type": "markdown",
   "metadata": {},
   "source": [
    "# F-string pthon"
   ]
  },
  {
   "cell_type": "code",
   "execution_count": 47,
   "metadata": {},
   "outputs": [
    {
     "data": {
      "text/plain": [
       "'\\nstudent name Muhammad Asif\\n'"
      ]
     },
     "execution_count": 47,
     "metadata": {},
     "output_type": "execute_result"
    }
   ],
   "source": [
    "# Most ues function is f-string\n",
    "# Syntex of f-string\n",
    "f\"\"\"\n",
    "student name {name}\n",
    "\"\"\""
   ]
  },
  {
   "cell_type": "markdown",
   "metadata": {},
   "source": [
    "# Recommended below two f-string format"
   ]
  },
  {
   "cell_type": "code",
   "execution_count": 52,
   "metadata": {},
   "outputs": [
    {
     "name": "stdout",
     "output_type": "stream",
     "text": [
      "\n",
      "Student Card\n",
      "Student Name : Muhammad Asif\n",
      "Father's Name: A D\n",
      "Age: 25\n",
      "Education : Master in Data Science\n",
      "\n"
     ]
    }
   ],
   "source": [
    "# 1\n",
    "\n",
    "name : str = 'Muhammad Asif'\n",
    "fname : str = \"A D\"\n",
    "education : str = \"Master in Data Science\"\n",
    "age : int = 25\n",
    "\n",
    "\n",
    "card : str = f\"\"\"\n",
    "Student Card\n",
    "Student Name : {name}\n",
    "Father's Name: {fname}\n",
    "Age: {age}\n",
    "Education : {education}\n",
    "\"\"\"\n",
    "\n",
    "print(card)"
   ]
  },
  {
   "cell_type": "code",
   "execution_count": 53,
   "metadata": {},
   "outputs": [
    {
     "name": "stdout",
     "output_type": "stream",
     "text": [
      "My Name is Muhammad Asif\n",
      "15\n"
     ]
    }
   ],
   "source": [
    "# 2\n",
    "\n",
    "# NLP, Coding all come in f-string, you integrate with string\n",
    "# exec : execute code\n",
    "\n",
    "student_code : str = \"\"\"\n",
    "print(\"My Name is Muhammad Asif\")\n",
    "a:int = 7\n",
    "b:int = 8\n",
    "print(a + b)\n",
    "\"\"\"\n",
    "\n",
    "exec(student_code)\n"
   ]
  },
  {
   "cell_type": "code",
   "execution_count": 42,
   "metadata": {},
   "outputs": [
    {
     "name": "stdout",
     "output_type": "stream",
     "text": [
      "\n",
      "PIAIC Student Card\n",
      "Student Name : Muhammad Asif\n",
      "Father's Name: A D\n",
      "Age: 25\n",
      "Education : Master in Data Science\n",
      "\n"
     ]
    }
   ],
   "source": [
    "# It is a powerful feature in python \n",
    "# In LANGCHAIN its template is define by f-string\n",
    "# f is written befor triple quotation\n",
    "# In cirli bracket the variable is place\n",
    "# No occur type casting problem (no need of converting age in to str)\n",
    "\n",
    "# ------------ f string in single triple quotation -----------\n",
    "\n",
    "name : str = 'Muhammad Asif'\n",
    "fname : str = \"A D\"\n",
    "education : str = \"Master in Data Science\"\n",
    "age : int = 25\n",
    "\n",
    "\n",
    "card : str = f'''\n",
    "PIAIC Student Card\n",
    "Student Name : {name}\n",
    "Father's Name: {fname}\n",
    "Age: {age}\n",
    "Education : {education}\n",
    "'''\n",
    "\n",
    "print(card)"
   ]
  },
  {
   "cell_type": "code",
   "execution_count": 43,
   "metadata": {},
   "outputs": [
    {
     "name": "stdout",
     "output_type": "stream",
     "text": [
      "\n",
      "Student Card\n",
      "Student Name : Muhammad Asif\n",
      "Father's Name: A D\n",
      "Age: 25\n",
      "Education : Master in Data Science\n",
      "\n"
     ]
    }
   ],
   "source": [
    "# ------------ f string in double triple quotation -----------\n",
    "\n",
    "name : str = 'Muhammad Asif'\n",
    "fname : str = \"A D\"\n",
    "education : str = \"Master in Data Science\"\n",
    "age : int = 25\n",
    "\n",
    "card : str = f\"\"\"\n",
    "Student Card\n",
    "Student Name : {name}\n",
    "Father's Name: {fname}\n",
    "Age: {age}\n",
    "Education : {education}\n",
    "\"\"\"\n",
    "\n",
    "print(card)"
   ]
  },
  {
   "cell_type": "code",
   "execution_count": 45,
   "metadata": {},
   "outputs": [
    {
     "name": "stdout",
     "output_type": "stream",
     "text": [
      "\n",
      "Student Card\n",
      "Student Name : Muhammad Asif\n",
      "Father's Name: A D\n",
      "Age: 25\n",
      "Education : Master in Data Science\n",
      "\n",
      "Total 17\n",
      "\n"
     ]
    }
   ],
   "source": [
    "# In it you can also write numerical function, expression you can do everything here with python code\n",
    "# f-string is the advanced way we used it in every where\n",
    "\n",
    "name : str = 'Muhammad Asif'\n",
    "fname : str = \"A D\"\n",
    "education : str = \"Master in Data Science\"\n",
    "age : int = 25\n",
    "\n",
    "\n",
    "card : str = f\"\"\"\n",
    "Student Card\n",
    "Student Name : {name}\n",
    "Father's Name: {fname}\n",
    "Age: {age}\n",
    "Education : {education}\n",
    "\n",
    "Total {1 + 3 + 6 + 7}\n",
    "\"\"\"\n",
    "\n",
    "print(card)"
   ]
  },
  {
   "cell_type": "code",
   "execution_count": null,
   "metadata": {},
   "outputs": [],
   "source": []
  }
 ],
 "metadata": {
  "kernelspec": {
   "display_name": "Python 3",
   "language": "python",
   "name": "python3"
  },
  "language_info": {
   "codemirror_mode": {
    "name": "ipython",
    "version": 3
   },
   "file_extension": ".py",
   "mimetype": "text/x-python",
   "name": "python",
   "nbconvert_exporter": "python",
   "pygments_lexer": "ipython3",
   "version": "3.12.0"
  }
 },
 "nbformat": 4,
 "nbformat_minor": 2
}
