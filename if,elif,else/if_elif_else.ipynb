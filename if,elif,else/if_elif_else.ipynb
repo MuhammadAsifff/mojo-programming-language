{
 "cells": [
  {
   "cell_type": "code",
   "execution_count": null,
   "metadata": {},
   "outputs": [],
   "source": [
    "# If else are the logical control blocks. You have to understand the importance of block for perfect logic or correct logic.\n",
    "# 1960 t0 1970 : Human that thought and perform is called symbolic AI. All rules in symbolic AI are written in if else.\n"
   ]
  },
  {
   "cell_type": "markdown",
   "metadata": {},
   "source": [
    "# if else are in the form of chain\n",
    "\n",
    "* har if kay sath jitni bhi elif hongi wo aik chain hay. Un may say koi aik block chalay ga.\n",
    "* Another \"if\" is another chain."
   ]
  },
  {
   "cell_type": "markdown",
   "metadata": {},
   "source": [
    "# With if many elif are connected from that only single elif are run"
   ]
  },
  {
   "cell_type": "markdown",
   "metadata": {},
   "source": [
    "* Logic comes from comparison operator e.g : and, or. After performing logic the answer come true ore false.because in the end comparison operator give result True or False.\n",
    "* comprehensive tell us all things right in same line.\n",
    "\n",
    "\n",
    "# Syntex\n",
    "\n",
    "# If-else-elif\n",
    "\n",
    "```\n",
    "if logic:\n",
    "    True_block\n",
    "else:\n",
    "    False_block\n",
    "```\n",
    "\n",
    "# comprehensive if-else\n",
    " ``` True_block if logic else False_block ```\n",
    "\n",
    "* if\n",
    "* if-else\n",
    "* if-elif-else"
   ]
  },
  {
   "cell_type": "code",
   "execution_count": 1,
   "metadata": {},
   "outputs": [
    {
     "name": "stdout",
     "output_type": "stream",
     "text": [
      "AI for everyone\n"
     ]
    }
   ],
   "source": [
    "# In control block first of all if keyword then logic(means True and False means have to check comparison any thing).\n",
    "# -- and with identation all things come in True block. After \"else\" block all come in else block.\n",
    "# The logic we written in which only one block will run whether if or else. Means if \"if\" block is true then return it.\n",
    "# -- if \"else\" block is true then return else block.\n",
    "\n",
    "if True:\n",
    "    print(\"AI for everyone\")\n",
    "else:\n",
    "    print(\"Hi world!\")"
   ]
  },
  {
   "cell_type": "code",
   "execution_count": 2,
   "metadata": {},
   "outputs": [
    {
     "name": "stdout",
     "output_type": "stream",
     "text": [
      "Hi world!\n"
     ]
    }
   ],
   "source": [
    "if False:\n",
    "    print(\"AI for everyone\")\n",
    "else:\n",
    "    print(\"Hi world!\")"
   ]
  },
  {
   "cell_type": "markdown",
   "metadata": {},
   "source": [
    "# list comprehensive\n",
    "\n",
    "* combining the logical operator we used (and or not)"
   ]
  },
  {
   "cell_type": "code",
   "execution_count": 3,
   "metadata": {},
   "outputs": [
    {
     "name": "stdout",
     "output_type": "stream",
     "text": [
      "Hi world!\n"
     ]
    }
   ],
   "source": [
    "#     True_block               logic           False_block\n",
    "print(\"AI for everyone\") if False else print(\"Hi world!\")"
   ]
  },
  {
   "cell_type": "code",
   "execution_count": 4,
   "metadata": {},
   "outputs": [
    {
     "name": "stdout",
     "output_type": "stream",
     "text": [
      "AI for everyone\n"
     ]
    }
   ],
   "source": [
    "print(\"AI for everyone\") if True else print(\"Hi world!\")"
   ]
  },
  {
   "cell_type": "markdown",
   "metadata": {},
   "source": [
    "# comparison operators \n",
    "* comparison operators : is control block it means all you wirte code from that \"if\" run or \"else\" run.\n",
    "\n",
    "* ==\n",
    "* ``>=``\n",
    "* <=\n",
    "* !=\n",
    "\n",
    "# logic (Tue False) : come from comparison operators\n",
    "\n",
    "* and\n",
    "* or\n",
    "* not"
   ]
  },
  {
   "cell_type": "code",
   "execution_count": 4,
   "metadata": {},
   "outputs": [
    {
     "name": "stdout",
     "output_type": "stream",
     "text": [
      "AI for everyone\n",
      "Generative AI Now in 2k23\n",
      "Andrew\n"
     ]
    }
   ],
   "source": [
    "# In false block \"else\" block will run\n",
    "\n",
    "#From chain1 run only one block \n",
    "if True:\n",
    "    print(\"AI for everyone\")\n",
    "elif False:\n",
    "    print(\"Generative AI for everyone\")\n",
    "elif False:\n",
    "    print(\"Generative AI\")\n",
    "elif False:\n",
    "    print(\"Generative AI\")\n",
    "else:\n",
    "    print(\"Generative AI\")\n",
    "\n",
    "#From chain2 run only one block \n",
    "if False:\n",
    "    print(\"AI for everyone\")\n",
    "elif False:\n",
    "    print(\"Generative AI\")\n",
    "elif True:\n",
    "    print(\"Generative AI Now in 2k23\")\n",
    "elif False:\n",
    "    print(\"Generative AI\")\n",
    "else:\n",
    "    print(\"Generative AI for everyone\")\n",
    "\n",
    "print(\"Andrew\")"
   ]
  },
  {
   "cell_type": "markdown",
   "metadata": {},
   "source": [
    "# Examples of if, elif, else"
   ]
  },
  {
   "cell_type": "code",
   "execution_count": 2,
   "metadata": {},
   "outputs": [
    {
     "name": "stdout",
     "output_type": "stream",
     "text": [
      "Audi\n",
      "BMW\n",
      "Ford\n",
      "Toyota\n"
     ]
    }
   ],
   "source": [
    "# with the help of \"tab\" it go forward. and \"tab + shift\" it go backward.\n",
    "\n",
    "\n",
    "cars : list[str] = ['audi', 'bmw', 'ford', 'toyota']\n",
    "for car in cars:\n",
    "    if car == 'bmw':\n",
    "     print(car.upper())\n",
    "    else:\n",
    "     print(car.title())"
   ]
  },
  {
   "cell_type": "code",
   "execution_count": 6,
   "metadata": {},
   "outputs": [
    {
     "data": {
      "text/plain": [
       "['Audi', 'BMW', 'Subaru', 'Toyota']"
      ]
     },
     "execution_count": 6,
     "metadata": {},
     "output_type": "execute_result"
    }
   ],
   "source": [
    "# Above code with list comprehensive.\n",
    "\n",
    "cars : list[str] = ['audi', 'bmw', 'subaru', 'toyota']\n",
    "\n",
    "[i.upper() if i=='bmw' else i.title() for i in cars]"
   ]
  },
  {
   "cell_type": "markdown",
   "metadata": {},
   "source": [
    "# Some more examples"
   ]
  },
  {
   "cell_type": "code",
   "execution_count": 9,
   "metadata": {},
   "outputs": [
    {
     "name": "stdout",
     "output_type": "stream",
     "text": [
      "You are old enough to vote!\n",
      "Have you registered to vote yet?\n"
     ]
    }
   ],
   "source": [
    "# Eligible for CNIC or Vote\n",
    "\n",
    "# Taking user input for age\n",
    "age_str = input(\"Enter your age: \") # by default input return string \n",
    "age = int(age_str) # Here we convert it in to number\n",
    "\n",
    "if age >= 18:\n",
    "    print(\"You are old enough to vote!\")\n",
    "    print(\"Have you registered to vote yet?\")\n",
    "else:\n",
    "    print(\"Sorry, you are too young to vote.\")\n",
    "    print(\"Please register to vote as soon as you turn 18!\")"
   ]
  },
  {
   "cell_type": "markdown",
   "metadata": {},
   "source": [
    "# Login system"
   ]
  },
  {
   "cell_type": "code",
   "execution_count": 16,
   "metadata": {},
   "outputs": [
    {
     "name": "stdout",
     "output_type": "stream",
     "text": [
      "Invalid user or password\n"
     ]
    }
   ],
   "source": [
    "user_name : str = input(\"Enter user id: \\t\")\n",
    "user_passwrod : str = input(\"Enter password:\\t\")\n",
    "\n",
    "\n",
    "if user_name == 'admin' and user_passwrod == 'admin':\n",
    "    print(\"sent otp on you registered number\")\n",
    "    otp : str = input(\"Please inter otp\")\n",
    "    if otp == '123':\n",
    "        print(\"Welcome To The Era of AI\")\n",
    "else:\n",
    "    print(\"Invalid user or password\")\n"
   ]
  },
  {
   "cell_type": "markdown",
   "metadata": {},
   "source": [
    "# Grading System\n",
    "\n",
    "https://www.infoworld.com/article/3630372/get-started-with-python-type-hints.html"
   ]
  },
  {
   "cell_type": "code",
   "execution_count": 10,
   "metadata": {},
   "outputs": [
    {
     "name": "stdout",
     "output_type": "stream",
     "text": [
      "Dear Student your percentage is 77 now your calculated grade is:\t A\n"
     ]
    }
   ],
   "source": [
    "# Now I made the system Dynamic. Means now you used for testing purpose.\n",
    "\n",
    "from typing import Union\n",
    "\n",
    "per : Union[int, float] = int(input(\"Enter your percentage:\\t\"))\n",
    "grade : Union[str, None] = None\n",
    "\n",
    "if per >= 80:\n",
    "    grade = \"A+\"\n",
    "elif per >= 70:\n",
    "    grade = \"A\"\n",
    "elif per >= 60:\n",
    "    grade = \"B\"\n",
    "elif per >= 50:\n",
    "    grade = \"C\"\n",
    "elif per >= 40:\n",
    "    grade = \"D\"\n",
    "elif per >= 33:\n",
    "    grade = \"E\"\n",
    "else:\n",
    "    grade = \"Fail\"\n",
    "\n",
    "print(f\"Dear Student your percentage is {per} now your calculated grade is:\\t {grade}\")"
   ]
  }
 ],
 "metadata": {
  "kernelspec": {
   "display_name": "Python 3",
   "language": "python",
   "name": "python3"
  },
  "language_info": {
   "codemirror_mode": {
    "name": "ipython",
    "version": 3
   },
   "file_extension": ".py",
   "mimetype": "text/x-python",
   "name": "python",
   "nbconvert_exporter": "python",
   "pygments_lexer": "ipython3",
   "version": "3.12.0"
  }
 },
 "nbformat": 4,
 "nbformat_minor": 2
}
