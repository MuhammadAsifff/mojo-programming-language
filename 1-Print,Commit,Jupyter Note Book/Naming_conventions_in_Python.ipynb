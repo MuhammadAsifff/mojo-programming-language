{
 "cells": [
  {
   "cell_type": "code",
   "execution_count": 1,
   "metadata": {},
   "outputs": [
    {
     "name": "stdout",
     "output_type": "stream",
     "text": [
      "NA Times\n"
     ]
    }
   ],
   "source": [
    "print('NA Times')"
   ]
  },
  {
   "cell_type": "markdown",
   "metadata": {},
   "source": [
    "# Naming conventions in Python"
   ]
  },
  {
   "cell_type": "markdown",
   "metadata": {},
   "source": [
    "# Examples of variable names that are allowed:\n",
    "   *   (single lowercase letter)\n",
    "        * Example:a\n",
    "   *   (single uppercase letter)\n",
    "        * Example:A\n",
    "   *   lowercase\n",
    "        * Example:natimes\n",
    "   *   lower_case_with_underscores\n",
    "        * Example:na_times\n",
    "   *   UPPERCASE\n",
    "        * Example: NATIMES\n",
    "   *   UPPER_CASE_WITH_UNDERSCORES\n",
    "        * Example: NA_TIMES\n",
    "   *   camelCase\n",
    "        * Example: naTimes\n",
    "   *   Single underscore in start\n",
    "        * Example: _naTimes\n"
   ]
  },
  {
   "cell_type": "code",
   "execution_count": 2,
   "metadata": {},
   "outputs": [
    {
     "name": "stdout",
     "output_type": "stream",
     "text": [
      "Mojo for everyone\n"
     ]
    }
   ],
   "source": [
    "# Single lowercase letter\n",
    "a : str = 'Mojo for everyone'\n",
    "print(a)"
   ]
  },
  {
   "cell_type": "code",
   "execution_count": 3,
   "metadata": {},
   "outputs": [
    {
     "name": "stdout",
     "output_type": "stream",
     "text": [
      "AI for everyone\n"
     ]
    }
   ],
   "source": [
    "# Single uppercase letter\n",
    "A : str = 'AI for everyone'\n",
    "print(A)"
   ]
  },
  {
   "cell_type": "code",
   "execution_count": 5,
   "metadata": {},
   "outputs": [
    {
     "name": "stdout",
     "output_type": "stream",
     "text": [
      "Generative AI for everyone\n"
     ]
    }
   ],
   "source": [
    "# lowercase\n",
    "abc : str = 'Generative AI for everyone'\n",
    "print(abc)"
   ]
  },
  {
   "cell_type": "code",
   "execution_count": 6,
   "metadata": {},
   "outputs": [
    {
     "name": "stdout",
     "output_type": "stream",
     "text": [
      "Gen AI for everyone\n"
     ]
    }
   ],
   "source": [
    "# lower_case_with_underscores\n",
    "abc_xyz : str = 'Gen AI for everyone'\n",
    "print(abc_xyz)"
   ]
  },
  {
   "cell_type": "code",
   "execution_count": 8,
   "metadata": {},
   "outputs": [
    {
     "name": "stdout",
     "output_type": "stream",
     "text": [
      "NA Times\n"
     ]
    }
   ],
   "source": [
    "# UPPERCASE\n",
    "ABC : str = 'NA Times'\n",
    "print(ABC)"
   ]
  },
  {
   "cell_type": "code",
   "execution_count": 10,
   "metadata": {},
   "outputs": [
    {
     "name": "stdout",
     "output_type": "stream",
     "text": [
      "NA Times\n"
     ]
    }
   ],
   "source": [
    "# UPPER_CASE_WITH_UNDERSCORES\n",
    "ABC_XYZ : str = 'NA Times'\n",
    "print(ABC_XYZ)"
   ]
  },
  {
   "cell_type": "code",
   "execution_count": 11,
   "metadata": {},
   "outputs": [
    {
     "name": "stdout",
     "output_type": "stream",
     "text": [
      "NA Times\n"
     ]
    }
   ],
   "source": [
    "# camelCase\n",
    "myName: str = 'NA Times'\n",
    "print(myName)"
   ]
  },
  {
   "cell_type": "code",
   "execution_count": 12,
   "metadata": {},
   "outputs": [
    {
     "name": "stdout",
     "output_type": "stream",
     "text": [
      "NA Times\n"
     ]
    }
   ],
   "source": [
    "# Single underscore in start\n",
    "_myName: str = 'NA Times'\n",
    "print(_myName)"
   ]
  },
  {
   "cell_type": "markdown",
   "metadata": {},
   "source": [
    "# Examples of variable names that are allowed:\n",
    "   *   Starting with a Number\n",
    "        * Example:123abc = \"Invalid\"\n",
    "   *   Containing Spaces\n",
    "        * Example:invalid name = \"Invalid\"\n",
    "   *   Using Special Characters\n",
    "        * Example:price@USD = 50\n",
    "   *   Using Python Keywords\n",
    "        * Example:class = \"Invalid\", if = True\n",
    "   *   Using Hyphens\n",
    "        * Example: user-age = 30 "
   ]
  },
  {
   "cell_type": "code",
   "execution_count": null,
   "metadata": {},
   "outputs": [],
   "source": [
    "# Starting with a Number\n",
    "123abc = \"Invalid\" "
   ]
  },
  {
   "cell_type": "code",
   "execution_count": null,
   "metadata": {},
   "outputs": [],
   "source": [
    "# Containing Spaces\n",
    "invalid name = \"Invalid\""
   ]
  },
  {
   "cell_type": "code",
   "execution_count": null,
   "metadata": {},
   "outputs": [],
   "source": [
    "# Using Special Characters\n",
    "price@USD = 50"
   ]
  },
  {
   "cell_type": "code",
   "execution_count": null,
   "metadata": {},
   "outputs": [],
   "source": [
    "# Using Python Keywords\n",
    "class = \"Invalid\" \n",
    "if = True"
   ]
  },
  {
   "cell_type": "code",
   "execution_count": null,
   "metadata": {},
   "outputs": [],
   "source": []
  }
 ],
 "metadata": {
  "kernelspec": {
   "display_name": "Python 3",
   "language": "python",
   "name": "python3"
  },
  "language_info": {
   "codemirror_mode": {
    "name": "ipython",
    "version": 3
   },
   "file_extension": ".py",
   "mimetype": "text/x-python",
   "name": "python",
   "nbconvert_exporter": "python",
   "pygments_lexer": "ipython3",
   "version": "3.12.0"
  }
 },
 "nbformat": 4,
 "nbformat_minor": 2
}
