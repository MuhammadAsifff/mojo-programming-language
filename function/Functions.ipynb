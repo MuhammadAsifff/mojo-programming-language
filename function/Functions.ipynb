{
 "cells": [
  {
   "cell_type": "markdown",
   "metadata": {},
   "source": [
    "# FUNCTION : Are made get ride from repeation / are made for repeation work.\n",
    "\n",
    "# Types of Functions :\n",
    "* pre define function : The function which is made by community is called pre define function. \n",
    "* user define function : We also made custom function which are user define.\n",
    "\n",
    "* In predefine and user define function have 3 things :\n",
    "* Function decleration\n",
    "* Function body\n",
    "* Function calling\n",
    "\n",
    "* Function : It is call without any dot. e.g : print()\n",
    "* Method : It is call with any dot. e.g: variable.method_name()"
   ]
  },
  {
   "cell_type": "markdown",
   "metadata": {},
   "source": [
    "# Prameter : \n",
    "    * Giving name to variable when creating a function (Function bnaty waqt jub ap variable kay nam rakhtay hay.)\n",
    "\n",
    "# Argument :\n",
    "    * When we calling a function and passing the thing is called argument (Function call krtay waqt jub hum cheezain pass krtay hay to us waqt hum khtay hay argument.)"
   ]
  },
  {
   "cell_type": "markdown",
   "metadata": {},
   "source": [
    "# By Sir\n",
    "\n",
    "\n",
    "# Function\n",
    "* pre-define function\n",
    "    * provided by in language\n",
    "* user-define function\n",
    "    * custom function\n",
    "\n",
    "\n",
    "\n",
    "\n",
    "## components\n",
    "* function declaration\n",
    "* function body\n",
    "* function calling\n",
    "\n",
    "### Syntax function\n",
    "```\n",
    "def function_name(param1:type, param2:type,...)->Return_type:\n",
    "    function_body\n",
    "\n",
    "function_name(arg1,arg2)\n",
    "```\n",
    "\n",
    "### Syntaxt lambda function\n",
    "* one line function\n",
    "* without name\n",
    "* only use in this line : Not use befor and not used after.\n",
    "```\n",
    "lambda param1,param2 : function_body\n",
    " \n",
    "```"
   ]
  },
  {
   "cell_type": "markdown",
   "metadata": {},
   "source": [
    "# Pre-define function\n",
    "* print\n",
    "* len\n",
    "* id\n",
    "* dir\n",
    "* chr\n",
    "* ord"
   ]
  },
  {
   "cell_type": "code",
   "execution_count": 1,
   "metadata": {},
   "outputs": [],
   "source": [
    "# def : Reserve keyword for function.\n",
    "# function_name : Name of function.\n",
    "# (param1:type, param2:type,...) : Parameters names and their types\n",
    "# Return_type: Telling the return type\n",
    "# function_body : Statement that you want to write (Jo bhi ap statement likhna cha rhay hay)\n",
    "\n",
    "# Calling Function : When all these things are done then we \"call\" the function, for this\n",
    "# function_name(arg1,arg2) : Function name and passing in it arguments."
   ]
  },
  {
   "cell_type": "markdown",
   "metadata": {},
   "source": [
    "## components\n",
    "* function declaration\n",
    "    * function name\n",
    "    * Parameters\n",
    "        * param : type\n",
    "    * return output type\n",
    "* function body\n",
    "    * any businuess logic write here\n",
    "* function calling\n",
    "    * function(arg1,arg2)\n",
    "\n",
    "### Syntax function\n",
    "```\n",
    "def function_name(param1:type, param2:type,...)->Return_type: # declaration\n",
    "    function_body # body\n",
    "\n",
    "function_name(arg1,arg2) # calling\n",
    "```"
   ]
  },
  {
   "cell_type": "markdown",
   "metadata": {},
   "source": [
    "* koi bhi predefined function ko ap ko dikhna hay k wo return function hay ya non-return function, ap ksi variable may values assign krwayeen us say ap ko pta chal jayee ga k wo return hay ya non-return hay."
   ]
  },
  {
   "cell_type": "markdown",
   "metadata": {},
   "source": [
    "### Create simple function without any argument (defualt function)"
   ]
  },
  {
   "cell_type": "code",
   "execution_count": 7,
   "metadata": {},
   "outputs": [
    {
     "name": "stdout",
     "output_type": "stream",
     "text": [
      "Generative AI\n",
      "Python Crash course\n"
     ]
    }
   ],
   "source": [
    "# The function which do not take any argument is called Default function.\n",
    "\n",
    "# It return nothing so its bydefault return is \"None\"\n",
    "\n",
    "def AI()->None: # declaration/function signature\n",
    "    # function body start\n",
    "    print(\"Generative AI\") # statment1\n",
    "    print(\"Python Crash course\") # statment2\n",
    "    # function body end\n",
    "\n",
    "\n",
    "AI() # calling"
   ]
  },
  {
   "cell_type": "code",
   "execution_count": 8,
   "metadata": {},
   "outputs": [
    {
     "name": "stdout",
     "output_type": "stream",
     "text": [
      "Generative AI\n",
      "Python Crash course\n",
      "Generative AI\n",
      "Python Crash course\n",
      "Generative AI\n",
      "Python Crash course\n",
      "Generative AI\n",
      "Python Crash course\n"
     ]
    }
   ],
   "source": [
    "AI()\n",
    "AI()\n",
    "AI()\n",
    "AI()"
   ]
  },
  {
   "cell_type": "markdown",
   "metadata": {},
   "source": [
    "# Required parameters functions"
   ]
  },
  {
   "cell_type": "code",
   "execution_count": 5,
   "metadata": {},
   "outputs": [
    {
     "data": {
      "text/plain": [
       "13"
      ]
     },
     "execution_count": 5,
     "metadata": {},
     "output_type": "execute_result"
    }
   ],
   "source": [
    "# If two parameters are required for function then you have to put two parammeter\n",
    "# -- if you not put two parameter then it give error.\n",
    "\n",
    "#                   param1       param2\n",
    "def add_two_numbers(num1 : int , num2 : int)->int:\n",
    "    return num1 + num2\n",
    "\n",
    "add_two_numbers(7,6)# agr1, arg2"
   ]
  },
  {
   "cell_type": "code",
   "execution_count": 6,
   "metadata": {},
   "outputs": [
    {
     "ename": "TypeError",
     "evalue": "add_two_numbers() missing 1 required positional argument: 'num2'",
     "output_type": "error",
     "traceback": [
      "\u001b[1;31m---------------------------------------------------------------------------\u001b[0m",
      "\u001b[1;31mTypeError\u001b[0m                                 Traceback (most recent call last)",
      "\u001b[1;32mc:\\Users\\Hp\\Desktop\\MOJO 1 SHOT\\function\\class10.ipynb Cell 13\u001b[0m line \u001b[0;36m3\n\u001b[0;32m      <a href='vscode-notebook-cell:/c%3A/Users/Hp/Desktop/MOJO%201%20SHOT/function/class10.ipynb#Y103sZmlsZQ%3D%3D?line=0'>1</a>\u001b[0m \u001b[39m# If you not put two parameters then it give error\u001b[39;00m\n\u001b[1;32m----> <a href='vscode-notebook-cell:/c%3A/Users/Hp/Desktop/MOJO%201%20SHOT/function/class10.ipynb#Y103sZmlsZQ%3D%3D?line=2'>3</a>\u001b[0m add_two_numbers(\u001b[39m7\u001b[39;49m)\n",
      "\u001b[1;31mTypeError\u001b[0m: add_two_numbers() missing 1 required positional argument: 'num2'"
     ]
    }
   ],
   "source": [
    "\n",
    "# If you not put two parameters then it give error\n",
    "\n",
    "add_two_numbers(7)"
   ]
  },
  {
   "cell_type": "markdown",
   "metadata": {},
   "source": [
    "# Fucntion with optional parameters\n",
    "    * In which we give it default value. If user not give the value then used the default value."
   ]
  },
  {
   "cell_type": "code",
   "execution_count": 7,
   "metadata": {},
   "outputs": [
    {
     "name": "stdout",
     "output_type": "stream",
     "text": [
      "7 6\n"
     ]
    },
    {
     "data": {
      "text/plain": [
       "13"
      ]
     },
     "execution_count": 7,
     "metadata": {},
     "output_type": "execute_result"
    }
   ],
   "source": [
    "def add_two_numbers(num1: int, num2:int = 0) -> int:\n",
    "    print(num1, num2)\n",
    "    return num1 + num2\n",
    "\n",
    "add_two_numbers(7,6)"
   ]
  },
  {
   "cell_type": "markdown",
   "metadata": {},
   "source": [
    "# Positional argument"
   ]
  },
  {
   "cell_type": "code",
   "execution_count": 10,
   "metadata": {},
   "outputs": [
    {
     "name": "stdout",
     "output_type": "stream",
     "text": [
      "num1 value 7 and num 2 value 20\n"
     ]
    },
    {
     "data": {
      "text/plain": [
       "27"
      ]
     },
     "execution_count": 10,
     "metadata": {},
     "output_type": "execute_result"
    }
   ],
   "source": [
    "# It is a example of postional argument.\n",
    "\n",
    "#                   param1       param2\n",
    "def add_two_numbers(num1 : int , num2 : int)->int:\n",
    "    print(f\"num1 value {num1} and num 2 value {num2}\")\n",
    "    return num1 + num2\n",
    "\n",
    "add_two_numbers(7,20)# agr1, arg2 postional"
   ]
  },
  {
   "cell_type": "markdown",
   "metadata": {},
   "source": [
    "# unlimited postional argument"
   ]
  },
  {
   "cell_type": "code",
   "execution_count": 1,
   "metadata": {},
   "outputs": [
    {
     "name": "stdout",
     "output_type": "stream",
     "text": [
      "Hello Monica\n",
      "Hello Luke\n",
      "Hello Steve\n",
      "Hello John\n",
      "Hello Muhammad Asif\n"
     ]
    }
   ],
   "source": [
    "# If you want unlimited postional argument with comma separated then you used single asteric with \n",
    "# -- variable name (*name). then we receive a comma separated value in the form of tuple.\n",
    "\n",
    "# It is a new method\n",
    "# .... : means unlimited.\n",
    "# When you pass unlimited commma separeted values it become a part of it.\n",
    "\n",
    "# It is for tuple\n",
    "\n",
    "from typing import Tuple\n",
    "\n",
    "def greet(*names: Tuple[str, ...]) -> None:\n",
    "    \"\"\"\n",
    "    This function greets all persons in the names tuple.\n",
    "    \"\"\"\n",
    "    for name in names:\n",
    "        print(\"Hello\", name)\n",
    "\n",
    "greet(\"Monica\", \"Luke\", \"Steve\", \"John\", \"Muhammad Asif\")"
   ]
  },
  {
   "cell_type": "code",
   "execution_count": 9,
   "metadata": {},
   "outputs": [
    {
     "name": "stdout",
     "output_type": "stream",
     "text": [
      "num1 value 20 and num 2 value 7\n"
     ]
    },
    {
     "data": {
      "text/plain": [
       "27"
      ]
     },
     "execution_count": 9,
     "metadata": {},
     "output_type": "execute_result"
    }
   ],
   "source": [
    "# It is a example of key word arguments\n",
    "\n",
    "#                   param1       param2\n",
    "def add_two_numbers(num1 : int , num2 : int)->int:\n",
    "    print(f\"num1 value {num1} and num 2 value {num2}\")\n",
    "    return num1 + num2\n",
    "\n",
    "add_two_numbers(num2=7,num1=20)# agr1, arg2 key word arguments"
   ]
  },
  {
   "cell_type": "markdown",
   "metadata": {},
   "source": [
    "# unlimited keyword argument"
   ]
  },
  {
   "cell_type": "code",
   "execution_count": 2,
   "metadata": {},
   "outputs": [
    {
     "name": "stdout",
     "output_type": "stream",
     "text": [
      "{'a': 71, 'b': 21, 'c': 31, 'x': 11, 'y': 21, 'name': 'Muhammad Asif'} <class 'dict'>\n"
     ]
    }
   ],
   "source": [
    "# If you want unlimited keyword argument then used double asteric before the name of variable (**name) and \n",
    "# -- it return values in the form of dictionary\n",
    "\n",
    "def xyz(**kargs):\n",
    "    print(kargs, type(kargs))\n",
    "\n",
    "\n",
    "xyz(a=71, b=21, c=31, x=11,y=21 , name=\"Muhammad Asif\")"
   ]
  },
  {
   "cell_type": "markdown",
   "metadata": {},
   "source": [
    "# Passing both unlimited positional and key argument."
   ]
  },
  {
   "cell_type": "code",
   "execution_count": 3,
   "metadata": {},
   "outputs": [
    {
     "name": "stdout",
     "output_type": "stream",
     "text": [
      "1 2 (7, 9, 9, 9, 11, 22, 33) {'c': 21, 'd': 31, 'x': 101}\n"
     ]
    }
   ],
   "source": [
    "def my_function(a: int, b: int, *abc: int, **xyz: int) -> None:\n",
    "    print(a, b, abc, xyz)\n",
    "\n",
    "my_function(1,2, 7,9,9,9,11,22,33, c=21, d= 31, x=101)"
   ]
  },
  {
   "cell_type": "markdown",
   "metadata": {},
   "source": [
    "# Return and None-return function"
   ]
  },
  {
   "cell_type": "markdown",
   "metadata": {},
   "source": [
    "# Return Function"
   ]
  },
  {
   "cell_type": "code",
   "execution_count": 10,
   "metadata": {},
   "outputs": [
    {
     "name": "stdout",
     "output_type": "stream",
     "text": [
      "This is a return statement\n"
     ]
    }
   ],
   "source": [
    "def example_return_function():\n",
    "    return \"This is a return statement\"\n",
    "\n",
    "# Calling the function and storing the result\n",
    "result = example_return_function()\n",
    "\n",
    "# Printing the result\n",
    "print(result)"
   ]
  },
  {
   "cell_type": "markdown",
   "metadata": {},
   "source": [
    "# None-return"
   ]
  },
  {
   "cell_type": "code",
   "execution_count": 11,
   "metadata": {},
   "outputs": [
    {
     "name": "stdout",
     "output_type": "stream",
     "text": [
      "This function does not have a return statement\n",
      "None\n"
     ]
    }
   ],
   "source": [
    "# print\n",
    "\n",
    "def function_without_return():\n",
    "    print(\"This function does not have a return statement\")\n",
    "\n",
    "# Calling the function and storing the result\n",
    "result = function_without_return()\n",
    "\n",
    "# Printing the result\n",
    "print(result)"
   ]
  },
  {
   "cell_type": "code",
   "execution_count": 12,
   "metadata": {},
   "outputs": [
    {
     "data": {
      "text/plain": [
       "'This function does not have a return statement'"
      ]
     },
     "metadata": {},
     "output_type": "display_data"
    },
    {
     "data": {
      "text/plain": [
       "None"
      ]
     },
     "metadata": {},
     "output_type": "display_data"
    }
   ],
   "source": [
    "# display\n",
    "\n",
    "def function_without_return():\n",
    "    display(\"This function does not have a return statement\")\n",
    "\n",
    "# Calling the function and storing the result\n",
    "result = function_without_return()\n",
    "\n",
    "# Printing the result\n",
    "display(result)"
   ]
  },
  {
   "cell_type": "markdown",
   "metadata": {},
   "source": [
    "### Syntaxt lambda function\n",
    "* one line function\n",
    "* without name / anonymous function\n",
    "* only use one time.\n",
    "```\n",
    "lambda param1,param2 : function_body\n",
    " \n",
    "```"
   ]
  },
  {
   "cell_type": "markdown",
   "metadata": {},
   "source": [
    "# Why we made lamda function ? \n",
    "* Because some time we need function only for one time. And also function consume memory so get ride from it we made lamda function"
   ]
  },
  {
   "cell_type": "code",
   "execution_count": 1,
   "metadata": {},
   "outputs": [
    {
     "data": {
      "text/plain": [
       "13"
      ]
     },
     "execution_count": 1,
     "metadata": {},
     "output_type": "execute_result"
    }
   ],
   "source": [
    "a : int = lambda num1, num2 : num1 + num2\n",
    "\n",
    "a(7,6)"
   ]
  },
  {
   "cell_type": "markdown",
   "metadata": {},
   "source": [
    "# Collable"
   ]
  },
  {
   "cell_type": "code",
   "execution_count": 5,
   "metadata": {},
   "outputs": [
    {
     "name": "stdout",
     "output_type": "stream",
     "text": [
      "41\n"
     ]
    }
   ],
   "source": [
    "# With the help of callable we define function type input and output\n",
    "# Here we we also define typing in lamda with the help of collable, collable is type of function with input and output\n",
    "\n",
    "from typing import Callable\n",
    "\n",
    "add: Callable[[int, int], int] = lambda x, y: x + y\n",
    "result = add(11, 30)  # result will be 41\n",
    "print(result)"
   ]
  },
  {
   "cell_type": "markdown",
   "metadata": {},
   "source": [
    "# Map function, Filter function:\n",
    "* Which we used on iterative data type, in which lamda function is used so much."
   ]
  },
  {
   "cell_type": "markdown",
   "metadata": {},
   "source": [
    "# Map function"
   ]
  },
  {
   "cell_type": "code",
   "execution_count": 2,
   "metadata": {},
   "outputs": [
    {
     "data": {
      "text/plain": [
       "[1, 4, 9, 16, 25, 36, 49, 64, 81, 100, 121, 144, 169]"
      ]
     },
     "execution_count": 2,
     "metadata": {},
     "output_type": "execute_result"
    }
   ],
   "source": [
    "# First value of list come in \"x\" then multiply by 2 occur\n",
    "\n",
    "# And we put list on it because it is a generator function\n",
    "\n",
    "data : list[int] = [1,2,3,4,5,6,7,8,9,10,11,12,13]\n",
    "\n",
    "data = list(map(lambda x:x**2 , data))\n",
    "\n",
    "data"
   ]
  },
  {
   "cell_type": "markdown",
   "metadata": {},
   "source": [
    "# Filter function"
   ]
  },
  {
   "cell_type": "code",
   "execution_count": 25,
   "metadata": {},
   "outputs": [
    {
     "data": {
      "text/plain": [
       "[2, 4, 6, 8, 10, 12, 14]"
      ]
     },
     "execution_count": 25,
     "metadata": {},
     "output_type": "execute_result"
    }
   ],
   "source": [
    "# Used in checking the authentication e.g : user name, password.\n",
    "# In here where true generate it pick them where false generate it leave them.\n",
    "\n",
    "data : list[int] = [1,2,3,4,5,6,7,8,9,10,11,12,13,14]\n",
    "\n",
    "data = list(filter(lambda x:x%2==0 ,data))\n",
    "\n",
    "data"
   ]
  },
  {
   "cell_type": "code",
   "execution_count": 26,
   "metadata": {},
   "outputs": [
    {
     "data": {
      "text/plain": [
       "[2, 4, 6, 8, 10, 12, 14, 16, 18, 20, 22, 24, 26, 28, 30, 32, 34, 36, 38]"
      ]
     },
     "execution_count": 26,
     "metadata": {},
     "output_type": "execute_result"
    }
   ],
   "source": [
    "\n",
    "data:list[int] = list(filter(lambda x:x%2==0 ,range(1,40)))\n",
    "\n",
    "data"
   ]
  },
  {
   "cell_type": "markdown",
   "metadata": {},
   "source": [
    "## Generator Function\n",
    "* Do iteration on each element one by one\n",
    "* stop after each iteration\n",
    "* remember old iteration value (last iterate value)\n",
    "* next iterate \n",
    "    * go farward from last iterate value\n",
    "\n",
    "\n",
    "\n",
    "* (generator function aik sath sara data generate nhi krta hay bulkay kush data generate krkay us ko check krta hay iger wo hamary kam ka hota hay to rakh leta hay nhi to discord kr deta hay. is say kya hota hay k ap ki memeory kim used hoti hay. e.g :Protein, Chromosome, DNA data, LLM data)"
   ]
  },
  {
   "cell_type": "code",
   "execution_count": 4,
   "metadata": {},
   "outputs": [
    {
     "name": "stdout",
     "output_type": "stream",
     "text": [
      "<generator object my_range at 0x000002612C8B31F0>\n",
      "[1, 2, 3, 4, 5, 6, 7, 8, 9, 10, 11, 12, 13]\n"
     ]
    }
   ],
   "source": [
    "# Generator functions are very important because with working on big data in our local computer \n",
    "# is due to genertaor function\n",
    "# In old system first generate 1 million value then check it is even or odd. but in Generative function during generating also check the value\n",
    "# -- wheter is even or odd if even then pick it if odd then discord it.\n",
    "\n",
    "# In gerator function we used \"YIELD\" keyword.\n",
    "\n",
    "# For runing generator function we used list\n",
    "\n",
    "## Generator Function\n",
    "def my_range(start:int , end:int , step: int=1):\n",
    "    for i in range(start,end+1,step):\n",
    "        yield i # Generator fucntion\n",
    "\n",
    "\n",
    "a = my_range(1,13)\n",
    "print(a)\n",
    "print(list(a))"
   ]
  },
  {
   "cell_type": "code",
   "execution_count": 5,
   "metadata": {},
   "outputs": [
    {
     "name": "stdout",
     "output_type": "stream",
     "text": [
      "<generator object my_range at 0x000002612E36A020>\n",
      "1\n",
      "2\n",
      "3\n",
      "AI\n",
      "4\n"
     ]
    }
   ],
   "source": [
    "# We also used \"next\" to perform one one iteration.\n",
    "\n",
    "# If you want to generate one one value from iteration datatype then used \"next\".\n",
    "\n",
    "a = my_range(1,10)\n",
    "print(a) # We can not directly call Generator Function.\n",
    "print(next(a))\n",
    "print(next(a))\n",
    "print(next(a))\n",
    "print(\"AI\")\n",
    "print(next(a))"
   ]
  },
  {
   "cell_type": "code",
   "execution_count": 4,
   "metadata": {},
   "outputs": [
    {
     "name": "stdout",
     "output_type": "stream",
     "text": [
      "1\n",
      "2\n",
      "<class 'generator'>\n"
     ]
    }
   ],
   "source": [
    "# Generator is a subtype of iterator because iterator is also check values one by one.\n",
    "\n",
    "\n",
    "from collections.abc import Iterator\n",
    "\n",
    "def my_range(start:int , end:int , step: int=1)->Iterator[int]:\n",
    "    for i in range(start,end+1,step):\n",
    "        yield i # Generator fucntion\n",
    "\n",
    "\n",
    "iterator_variable : Iterator[int] = my_range(1,10)\n",
    "\n",
    "print(next(iterator_variable))\n",
    "print(next(iterator_variable))\n",
    "\n",
    "print(type(iterator_variable))"
   ]
  },
  {
   "cell_type": "code",
   "execution_count": 5,
   "metadata": {},
   "outputs": [
    {
     "name": "stdout",
     "output_type": "stream",
     "text": [
      "3\n",
      "4\n",
      "5\n",
      "6\n",
      "7\n",
      "8\n",
      "9\n",
      "10\n"
     ]
    }
   ],
   "source": [
    "# After 2 we generating the value.\n",
    "\n",
    "for i in iterator_variable:\n",
    "    print(i)"
   ]
  },
  {
   "cell_type": "code",
   "execution_count": 8,
   "metadata": {},
   "outputs": [
    {
     "data": {
      "text/plain": [
       "['__class__',\n",
       " '__del__',\n",
       " '__delattr__',\n",
       " '__dir__',\n",
       " '__doc__',\n",
       " '__eq__',\n",
       " '__format__',\n",
       " '__ge__',\n",
       " '__getattribute__',\n",
       " '__getstate__',\n",
       " '__gt__',\n",
       " '__hash__',\n",
       " '__init__',\n",
       " '__init_subclass__',\n",
       " '__iter__',\n",
       " '__le__',\n",
       " '__lt__',\n",
       " '__name__',\n",
       " '__ne__',\n",
       " '__new__',\n",
       " '__next__',\n",
       " '__qualname__',\n",
       " '__reduce__',\n",
       " '__reduce_ex__',\n",
       " '__repr__',\n",
       " '__setattr__',\n",
       " '__sizeof__',\n",
       " '__str__',\n",
       " '__subclasshook__',\n",
       " 'close',\n",
       " 'gi_code',\n",
       " 'gi_frame',\n",
       " 'gi_running',\n",
       " 'gi_suspended',\n",
       " 'gi_yieldfrom',\n",
       " 'send',\n",
       " 'throw']"
      ]
     },
     "execution_count": 8,
     "metadata": {},
     "output_type": "execute_result"
    }
   ],
   "source": [
    "# Checking the methods and attributes of Generator function.\n",
    "\n",
    "dir(iterator_variable)"
   ]
  },
  {
   "cell_type": "markdown",
   "metadata": {},
   "source": [
    "# Decorative function"
   ]
  },
  {
   "cell_type": "code",
   "execution_count": 1,
   "metadata": {},
   "outputs": [
    {
     "name": "stdout",
     "output_type": "stream",
     "text": [
      "Something is happening before the function is called.\n",
      "Hello!\n",
      "Something is happening after the function is called.\n"
     ]
    }
   ],
   "source": [
    "# Decorator : With Custom function our general logic will also run.\n",
    "\n",
    "# Decorator function connect general function with custom function. And custom function come in general function.\n",
    "#  And on the behalf of this logic will perform and \"say hello\" go in as a function\n",
    "# Wrapper : is a bussiness logic\n",
    "# Wrapper : wrap your function from uper side and lower side. and by this our custom function is calling.\n",
    "\n",
    "# connectiong your function with another function\n",
    "# the functon you made with it you used @ \n",
    "\n",
    "# In decorator : variable is a function and fuctiontype is list in which you pass everything,\n",
    "# -- input is list and in which you pass none. It is return callable\n",
    "\n",
    "# First of all this function (def say_hello():) run and it come in ((func: Callable[[], None])) this.\n",
    "# -- and it gain access as first parameter\n",
    "# Then run (wrapper()) and in which he call (func())\n",
    "\n",
    "\n",
    "from typing import Callable\n",
    "\n",
    "def my_decorator(func: Callable[[], None])-> Callable[[], None]:\n",
    "    def wrapper():\n",
    "        print(\"Something is happening before the function is called.\")\n",
    "        func()\n",
    "        print(\"Something is happening after the function is called.\")\n",
    "    return wrapper\n",
    "\n",
    "@my_decorator\n",
    "def say_hello():\n",
    "    print(\"Hello!\")\n",
    "\n",
    "say_hello()\n"
   ]
  },
  {
   "cell_type": "code",
   "execution_count": 2,
   "metadata": {},
   "outputs": [
    {
     "name": "stdout",
     "output_type": "stream",
     "text": [
      "Something is happening before the function is called.\n",
      "101\n",
      "Something is happening after the function is called.\n"
     ]
    }
   ],
   "source": [
    "# By Sir by chatgpt\n",
    "\n",
    "from typing import Callable\n",
    "\n",
    "def my_decorator(func: Callable[[int], None]) -> Callable[[int], None]:\n",
    "    def wrapper(num1: int) -> None:\n",
    "        print(\"Something is happening before the function is called.\")\n",
    "        func(num1)\n",
    "        print(\"Something is happening after the function is called.\")\n",
    "    return wrapper\n",
    "\n",
    "@my_decorator\n",
    "def say_hello(num1: int) -> None:\n",
    "    print(num1)\n",
    "\n",
    "say_hello(101)"
   ]
  },
  {
   "cell_type": "markdown",
   "metadata": {},
   "source": [
    "# Recursive Function:\n",
    "  * (Function apnay under apnay ap ko call kray)\n",
    "  * Recursion function call itself in our body"
   ]
  },
  {
   "cell_type": "code",
   "execution_count": 7,
   "metadata": {},
   "outputs": [
    {
     "name": "stdout",
     "output_type": "stream",
     "text": [
      "The factorial of 5 is 120\n"
     ]
    }
   ],
   "source": [
    "# Consider it work as a loop\n",
    "# Recursive is a infinite you must have stop it on some point\n",
    "# Return : not go forward\n",
    "# (jo bhi ap statement pass krtay hay wo apnay ap ko call krta rhta hay jub tk k ap is statement ( if x == 1:\n",
    "        # return 1) tk na poochn jayeen)\n",
    "\n",
    "def factorial(x: int) -> int:\n",
    "    \"\"\"This is a recursive function\n",
    "    to find the factorial of an integer\"\"\"\n",
    "    if x == 1:\n",
    "        return 1\n",
    "    else:\n",
    "        return (x * factorial(x-1))\n",
    "        #       5*4*3*2*1\n",
    "\n",
    "asif = 5\n",
    "print(\"The factorial of\", asif, \"is\", factorial(asif))"
   ]
  },
  {
   "cell_type": "code",
   "execution_count": 2,
   "metadata": {},
   "outputs": [
    {
     "data": {
      "text/plain": [
       "120"
      ]
     },
     "execution_count": 2,
     "metadata": {},
     "output_type": "execute_result"
    }
   ],
   "source": [
    "5*4*3*2*1"
   ]
  },
  {
   "cell_type": "code",
   "execution_count": null,
   "metadata": {},
   "outputs": [],
   "source": []
  }
 ],
 "metadata": {
  "kernelspec": {
   "display_name": "Python 3",
   "language": "python",
   "name": "python3"
  },
  "language_info": {
   "codemirror_mode": {
    "name": "ipython",
    "version": 3
   },
   "file_extension": ".py",
   "mimetype": "text/x-python",
   "name": "python",
   "nbconvert_exporter": "python",
   "pygments_lexer": "ipython3",
   "version": "3.12.0"
  }
 },
 "nbformat": 4,
 "nbformat_minor": 2
}
